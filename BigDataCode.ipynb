{
 "cells": [
  {
   "attachments": {},
   "cell_type": "markdown",
   "metadata": {},
   "source": [
    "# Capa"
   ]
  },
  {
   "attachments": {},
   "cell_type": "markdown",
   "metadata": {},
   "source": [
    "<img src=\"./images/ESTB.png\"\n",
    "     alt=\"ESTBarreiro\"\n",
    "     style=\"float: left; margin-right: 10px;\" />\n",
    "<br/><br/>\n",
    "<br/><br/>\n",
    "<br/><br/>\n",
    "<br/><br/>\n",
    "- ESTBarreiro - IPS Bioinformatica - Janeiro 2023\n",
    "- Ano 3, semestre 1\n",
    "- UC: Big Data\n",
    "- Duarte Valente - 202000053\n",
    "- Guilherme Sá   - 202000201\n",
    "- Docentes: Raquel Barreira e António Gonçalves"
   ]
  },
  {
   "attachments": {},
   "cell_type": "markdown",
   "metadata": {},
   "source": [
    "# Introduçao"
   ]
  },
  {
   "attachments": {},
   "cell_type": "markdown",
   "metadata": {},
   "source": [
    "## Objetivos deste trabalho:\n",
    "- Este projeto tem como principal objetivo dar-nos a conhecer e utilizar o Spark no contexto de Machine Leaning.\n",
    "- Aqui vamos usar tecnicas de machine learning para analisar uma grande quantidade de dados e prever resultados para um determinado problema, assim como usar o spark para ler e apresentar resultados relativamente aos modelos de ML.\n",
    "- Tudo isto tem o intuito de simular um ambiente de grande escala e alta performance.\n",
    "## Introducao ao dataset utilizado\n",
    "- Nome: SparkML - Credit Card Fraud - KMA\n",
    "- Nome do dataset: creditcard.csv\n",
    "- O nosso dataset pode ser encontrado [aqui](https://www.kaggle.com/code/ukveteran/sparkml-credit-card-fraud-jma/data)\n",
    "- Este conjunto de dados é, nada mais nada menos que informaçoes sobre transaçoes de credit cards.\n",
    "- Com isto, o objetivo do trabalho será prever, de acordo com as caracteristicas de uma transaçao, se a mesma é ou nao fraude."
   ]
  },
  {
   "attachments": {},
   "cell_type": "markdown",
   "metadata": {},
   "source": [
    "# Projeto"
   ]
  },
  {
   "attachments": {},
   "cell_type": "markdown",
   "metadata": {},
   "source": [
    "## Instalar os packaged necessarios"
   ]
  },
  {
   "cell_type": "code",
   "execution_count": 2,
   "metadata": {},
   "outputs": [
    {
     "name": "stdout",
     "output_type": "stream",
     "text": [
      "Requirement already satisfied: pyspark in c:\\users\\ed\\appdata\\local\\packages\\pythonsoftwarefoundation.python.3.10_qbz5n2kfra8p0\\localcache\\local-packages\\python310\\site-packages (3.3.1)\n",
      "Requirement already satisfied: py4j==0.10.9.5 in c:\\users\\ed\\appdata\\local\\packages\\pythonsoftwarefoundation.python.3.10_qbz5n2kfra8p0\\localcache\\local-packages\\python310\\site-packages (from pyspark) (0.10.9.5)\n",
      "Note: you may need to restart the kernel to use updated packages.\n"
     ]
    }
   ],
   "source": [
    "%pip install pyspark"
   ]
  },
  {
   "cell_type": "code",
   "execution_count": 51,
   "metadata": {},
   "outputs": [],
   "source": [
    "# Spark Session imports\n",
    "from pyspark import SparkContext, SparkConf\n",
    "from pyspark.sql import SparkSession\n",
    "# Spark ML imports\n",
    "from pyspark.ml.feature import VectorAssembler\n",
    "from pyspark.ml.classification import LogisticRegression\n",
    "from pyspark.ml.evaluation import BinaryClassificationEvaluator\n",
    "from pyspark.ml.classification import RandomForestClassifier\n",
    "# other imports \n",
    "import matplotlib as plt"
   ]
  },
  {
   "attachments": {},
   "cell_type": "markdown",
   "metadata": {},
   "source": [
    "## Criar Ambiente do Spark\n",
    "- Aqui estamos a criar um ambiente de spark com o nome de CreditcardPrediction e com o computador master\n",
    "- Quando se trabalha com o Spark temos de criar uma Sessao SparkSession para gerir todas as configuraçoes do nosso ambienter de spark."
   ]
  },
  {
   "cell_type": "code",
   "execution_count": 25,
   "metadata": {},
   "outputs": [
    {
     "data": {
      "text/html": [
       "\n",
       "            <div>\n",
       "                <p><b>SparkSession - in-memory</b></p>\n",
       "                \n",
       "        <div>\n",
       "            <p><b>SparkContext</b></p>\n",
       "\n",
       "            <p><a href=\"http://ED-NOX:4040\">Spark UI</a></p>\n",
       "\n",
       "            <dl>\n",
       "              <dt>Version</dt>\n",
       "                <dd><code>v3.3.1</code></dd>\n",
       "              <dt>Master</dt>\n",
       "                <dd><code>local[*]</code></dd>\n",
       "              <dt>AppName</dt>\n",
       "                <dd><code>CreditCardPrediction</code></dd>\n",
       "            </dl>\n",
       "        </div>\n",
       "        \n",
       "            </div>\n",
       "        "
      ],
      "text/plain": [
       "<pyspark.sql.session.SparkSession at 0x1eace9fe110>"
      ]
     },
     "execution_count": 25,
     "metadata": {},
     "output_type": "execute_result"
    }
   ],
   "source": [
    "conf= SparkConf().setAppName('CreditCardPrediction').setMaster('local[*]')\n",
    "sc= SparkContext.getOrCreate(conf=conf)\n",
    "spark = SparkSession(sc)\n",
    "spark"
   ]
  },
  {
   "attachments": {},
   "cell_type": "markdown",
   "metadata": {},
   "source": [
    "## Importar os dados (creditcard.csv)"
   ]
  },
  {
   "attachments": {},
   "cell_type": "markdown",
   "metadata": {},
   "source": [
    "### Importar os dados pelo google drive"
   ]
  },
  {
   "cell_type": "code",
   "execution_count": 5,
   "metadata": {},
   "outputs": [
    {
     "ename": "ModuleNotFoundError",
     "evalue": "No module named 'google'",
     "output_type": "error",
     "traceback": [
      "\u001b[1;31m---------------------------------------------------------------------------\u001b[0m",
      "\u001b[1;31mModuleNotFoundError\u001b[0m                       Traceback (most recent call last)",
      "Cell \u001b[1;32mIn[5], line 1\u001b[0m\n\u001b[1;32m----> 1\u001b[0m \u001b[39mfrom\u001b[39;00m \u001b[39mgoogle\u001b[39;00m\u001b[39m.\u001b[39;00m\u001b[39mcolab\u001b[39;00m \u001b[39mimport\u001b[39;00m drive\n\u001b[0;32m      2\u001b[0m drive\u001b[39m.\u001b[39mmount(\u001b[39m'\u001b[39m\u001b[39m/content/drive\u001b[39m\u001b[39m'\u001b[39m)\n",
      "\u001b[1;31mModuleNotFoundError\u001b[0m: No module named 'google'"
     ]
    }
   ],
   "source": [
    "from google.colab import drive\n",
    "drive.mount('/content/drive')"
   ]
  },
  {
   "cell_type": "code",
   "execution_count": null,
   "metadata": {},
   "outputs": [],
   "source": [
    "df = spark.read.format(\"csv\").option(\"header\",\"true\")\\\n",
    ".option(\"inferSchema\",\"true\").load(\"../content/drive/MyDrive/Colab Notebooks/creditcard.csv\")"
   ]
  },
  {
   "attachments": {},
   "cell_type": "markdown",
   "metadata": {},
   "source": [
    "### Importar os dados por ficheiro"
   ]
  },
  {
   "cell_type": "code",
   "execution_count": 42,
   "metadata": {},
   "outputs": [],
   "source": [
    "df = spark.read.csv(\"creditcard.csv\", header=True, inferSchema=True)"
   ]
  },
  {
   "attachments": {},
   "cell_type": "markdown",
   "metadata": {},
   "source": [
    "## Visualisar dados\n",
    "Vamos simplesmente observar os dados, com o pandas, com o spark e ver a dimanesao e disparidade dos dados"
   ]
  },
  {
   "cell_type": "code",
   "execution_count": 7,
   "metadata": {},
   "outputs": [
    {
     "data": {
      "text/html": [
       "<div>\n",
       "<style scoped>\n",
       "    .dataframe tbody tr th:only-of-type {\n",
       "        vertical-align: middle;\n",
       "    }\n",
       "\n",
       "    .dataframe tbody tr th {\n",
       "        vertical-align: top;\n",
       "    }\n",
       "\n",
       "    .dataframe thead th {\n",
       "        text-align: right;\n",
       "    }\n",
       "</style>\n",
       "<table border=\"1\" class=\"dataframe\">\n",
       "  <thead>\n",
       "    <tr style=\"text-align: right;\">\n",
       "      <th></th>\n",
       "      <th>Time</th>\n",
       "      <th>V1</th>\n",
       "      <th>V2</th>\n",
       "      <th>V3</th>\n",
       "      <th>V4</th>\n",
       "      <th>V5</th>\n",
       "      <th>V6</th>\n",
       "      <th>V7</th>\n",
       "      <th>V8</th>\n",
       "      <th>V9</th>\n",
       "      <th>...</th>\n",
       "      <th>V21</th>\n",
       "      <th>V22</th>\n",
       "      <th>V23</th>\n",
       "      <th>V24</th>\n",
       "      <th>V25</th>\n",
       "      <th>V26</th>\n",
       "      <th>V27</th>\n",
       "      <th>V28</th>\n",
       "      <th>Amount</th>\n",
       "      <th>Class</th>\n",
       "    </tr>\n",
       "  </thead>\n",
       "  <tbody>\n",
       "    <tr>\n",
       "      <th>0</th>\n",
       "      <td>0.0</td>\n",
       "      <td>-1.359807</td>\n",
       "      <td>-0.072781</td>\n",
       "      <td>2.536347</td>\n",
       "      <td>1.378155</td>\n",
       "      <td>-0.338321</td>\n",
       "      <td>0.462388</td>\n",
       "      <td>0.239599</td>\n",
       "      <td>0.098698</td>\n",
       "      <td>0.363787</td>\n",
       "      <td>...</td>\n",
       "      <td>-0.018307</td>\n",
       "      <td>0.277838</td>\n",
       "      <td>-0.110474</td>\n",
       "      <td>0.066928</td>\n",
       "      <td>0.128539</td>\n",
       "      <td>-0.189115</td>\n",
       "      <td>0.133558</td>\n",
       "      <td>-0.021053</td>\n",
       "      <td>149.62</td>\n",
       "      <td>0</td>\n",
       "    </tr>\n",
       "    <tr>\n",
       "      <th>1</th>\n",
       "      <td>0.0</td>\n",
       "      <td>1.191857</td>\n",
       "      <td>0.266151</td>\n",
       "      <td>0.166480</td>\n",
       "      <td>0.448154</td>\n",
       "      <td>0.060018</td>\n",
       "      <td>-0.082361</td>\n",
       "      <td>-0.078803</td>\n",
       "      <td>0.085102</td>\n",
       "      <td>-0.255425</td>\n",
       "      <td>...</td>\n",
       "      <td>-0.225775</td>\n",
       "      <td>-0.638672</td>\n",
       "      <td>0.101288</td>\n",
       "      <td>-0.339846</td>\n",
       "      <td>0.167170</td>\n",
       "      <td>0.125895</td>\n",
       "      <td>-0.008983</td>\n",
       "      <td>0.014724</td>\n",
       "      <td>2.69</td>\n",
       "      <td>0</td>\n",
       "    </tr>\n",
       "    <tr>\n",
       "      <th>2</th>\n",
       "      <td>1.0</td>\n",
       "      <td>-1.358354</td>\n",
       "      <td>-1.340163</td>\n",
       "      <td>1.773209</td>\n",
       "      <td>0.379780</td>\n",
       "      <td>-0.503198</td>\n",
       "      <td>1.800499</td>\n",
       "      <td>0.791461</td>\n",
       "      <td>0.247676</td>\n",
       "      <td>-1.514654</td>\n",
       "      <td>...</td>\n",
       "      <td>0.247998</td>\n",
       "      <td>0.771679</td>\n",
       "      <td>0.909412</td>\n",
       "      <td>-0.689281</td>\n",
       "      <td>-0.327642</td>\n",
       "      <td>-0.139097</td>\n",
       "      <td>-0.055353</td>\n",
       "      <td>-0.059752</td>\n",
       "      <td>378.66</td>\n",
       "      <td>0</td>\n",
       "    </tr>\n",
       "    <tr>\n",
       "      <th>3</th>\n",
       "      <td>1.0</td>\n",
       "      <td>-0.966272</td>\n",
       "      <td>-0.185226</td>\n",
       "      <td>1.792993</td>\n",
       "      <td>-0.863291</td>\n",
       "      <td>-0.010309</td>\n",
       "      <td>1.247203</td>\n",
       "      <td>0.237609</td>\n",
       "      <td>0.377436</td>\n",
       "      <td>-1.387024</td>\n",
       "      <td>...</td>\n",
       "      <td>-0.108300</td>\n",
       "      <td>0.005274</td>\n",
       "      <td>-0.190321</td>\n",
       "      <td>-1.175575</td>\n",
       "      <td>0.647376</td>\n",
       "      <td>-0.221929</td>\n",
       "      <td>0.062723</td>\n",
       "      <td>0.061458</td>\n",
       "      <td>123.50</td>\n",
       "      <td>0</td>\n",
       "    </tr>\n",
       "    <tr>\n",
       "      <th>4</th>\n",
       "      <td>2.0</td>\n",
       "      <td>-1.158233</td>\n",
       "      <td>0.877737</td>\n",
       "      <td>1.548718</td>\n",
       "      <td>0.403034</td>\n",
       "      <td>-0.407193</td>\n",
       "      <td>0.095921</td>\n",
       "      <td>0.592941</td>\n",
       "      <td>-0.270533</td>\n",
       "      <td>0.817739</td>\n",
       "      <td>...</td>\n",
       "      <td>-0.009431</td>\n",
       "      <td>0.798278</td>\n",
       "      <td>-0.137458</td>\n",
       "      <td>0.141267</td>\n",
       "      <td>-0.206010</td>\n",
       "      <td>0.502292</td>\n",
       "      <td>0.219422</td>\n",
       "      <td>0.215153</td>\n",
       "      <td>69.99</td>\n",
       "      <td>0</td>\n",
       "    </tr>\n",
       "  </tbody>\n",
       "</table>\n",
       "<p>5 rows × 31 columns</p>\n",
       "</div>"
      ],
      "text/plain": [
       "   Time        V1        V2        V3        V4        V5        V6        V7  \\\n",
       "0   0.0 -1.359807 -0.072781  2.536347  1.378155 -0.338321  0.462388  0.239599   \n",
       "1   0.0  1.191857  0.266151  0.166480  0.448154  0.060018 -0.082361 -0.078803   \n",
       "2   1.0 -1.358354 -1.340163  1.773209  0.379780 -0.503198  1.800499  0.791461   \n",
       "3   1.0 -0.966272 -0.185226  1.792993 -0.863291 -0.010309  1.247203  0.237609   \n",
       "4   2.0 -1.158233  0.877737  1.548718  0.403034 -0.407193  0.095921  0.592941   \n",
       "\n",
       "         V8        V9  ...       V21       V22       V23       V24       V25  \\\n",
       "0  0.098698  0.363787  ... -0.018307  0.277838 -0.110474  0.066928  0.128539   \n",
       "1  0.085102 -0.255425  ... -0.225775 -0.638672  0.101288 -0.339846  0.167170   \n",
       "2  0.247676 -1.514654  ...  0.247998  0.771679  0.909412 -0.689281 -0.327642   \n",
       "3  0.377436 -1.387024  ... -0.108300  0.005274 -0.190321 -1.175575  0.647376   \n",
       "4 -0.270533  0.817739  ... -0.009431  0.798278 -0.137458  0.141267 -0.206010   \n",
       "\n",
       "        V26       V27       V28  Amount  Class  \n",
       "0 -0.189115  0.133558 -0.021053  149.62      0  \n",
       "1  0.125895 -0.008983  0.014724    2.69      0  \n",
       "2 -0.139097 -0.055353 -0.059752  378.66      0  \n",
       "3 -0.221929  0.062723  0.061458  123.50      0  \n",
       "4  0.502292  0.219422  0.215153   69.99      0  \n",
       "\n",
       "[5 rows x 31 columns]"
      ]
     },
     "execution_count": 7,
     "metadata": {},
     "output_type": "execute_result"
    }
   ],
   "source": [
    "df.toPandas().head()"
   ]
  },
  {
   "attachments": {},
   "cell_type": "markdown",
   "metadata": {},
   "source": [
    "### Descriçao das caracteristicas do Dataset:\n",
    "- Time: Numero de segundos passados entre a transaçao em causa e a primeira transaçao do dataset.\n",
    "- V (1-28): Sao dados dados que foram alterados propositadamente para que informaçoes dos utilizadores fossem protegidas.\n",
    "- Amount: Quantidade de dinheiro transferido\n",
    "- Class: Verificaçao se a transaçao era ou nao fraude, 1= fraude e 0 para todos os outros casos."
   ]
  },
  {
   "cell_type": "code",
   "execution_count": 8,
   "metadata": {},
   "outputs": [
    {
     "name": "stdout",
     "output_type": "stream",
     "text": [
      "+----+------------------+-------------------+----------------+------------------+-------------------+-------------------+-------------------+------------------+------------------+-------------------+------------------+------------------+------------------+------------------+------------------+------------------+------------------+-------------------+------------------+-------------------+--------------------+-------------------+------------------+------------------+------------------+------------------+--------------------+-------------------+------+-----+\n",
      "|Time|                V1|                 V2|              V3|                V4|                 V5|                 V6|                 V7|                V8|                V9|                V10|               V11|               V12|               V13|               V14|               V15|               V16|               V17|                V18|               V19|                V20|                 V21|                V22|               V23|               V24|               V25|               V26|                 V27|                V28|Amount|Class|\n",
      "+----+------------------+-------------------+----------------+------------------+-------------------+-------------------+-------------------+------------------+------------------+-------------------+------------------+------------------+------------------+------------------+------------------+------------------+------------------+-------------------+------------------+-------------------+--------------------+-------------------+------------------+------------------+------------------+------------------+--------------------+-------------------+------+-----+\n",
      "| 0.0|  -1.3598071336738|-0.0727811733098497|2.53634673796914|  1.37815522427443| -0.338320769942518|  0.462387777762292|  0.239598554061257|0.0986979012610507| 0.363786969611213| 0.0907941719789316|-0.551599533260813|-0.617800855762348|-0.991389847235408|-0.311169353699879|  1.46817697209427|-0.470400525259478| 0.207971241929242| 0.0257905801985591| 0.403992960255733|  0.251412098239705|  -0.018306777944153|  0.277837575558899|-0.110473910188767|0.0669280749146731| 0.128539358273528|-0.189114843888824|   0.133558376740387|-0.0210530534538215|149.62|    0|\n",
      "| 0.0|  1.19185711131486|   0.26615071205963|0.16648011335321| 0.448154078460911| 0.0600176492822243|-0.0823608088155687|-0.0788029833323113|0.0851016549148104|-0.255425128109186| -0.166974414004614|  1.61272666105479|  1.06523531137287|  0.48909501589608|-0.143772296441519| 0.635558093258208| 0.463917041022171|-0.114804663102346| -0.183361270123994|-0.145783041325259|-0.0690831352230203|  -0.225775248033138| -0.638671952771851| 0.101288021253234|-0.339846475529127| 0.167170404418143| 0.125894532368176|-0.00898309914322813| 0.0147241691924927|  2.69|    0|\n",
      "| 1.0| -1.35835406159823|  -1.34016307473609|1.77320934263119| 0.379779593034328| -0.503198133318193|   1.80049938079263|  0.791460956450422| 0.247675786588991| -1.51465432260583|  0.207642865216696| 0.624501459424895| 0.066083685268831| 0.717292731410831|-0.165945922763554|  2.34586494901581| -2.89008319444231|  1.10996937869599| -0.121359313195888| -2.26185709530414|  0.524979725224404|   0.247998153469754|  0.771679401917229| 0.909412262347719|-0.689280956490685|-0.327641833735251|-0.139096571514147| -0.0553527940384261|-0.0597518405929204|378.66|    0|\n",
      "| 1.0|-0.966271711572087| -0.185226008082898|1.79299333957872|-0.863291275036453|-0.0103088796030823|   1.24720316752486|   0.23760893977178| 0.377435874652262| -1.38702406270197|-0.0549519224713749|-0.226487263835401| 0.178228225877303| 0.507756869957169| -0.28792374549456|-0.631418117709045|  -1.0596472454325|-0.684092786345479|   1.96577500349538|  -1.2326219700892| -0.208037781160366|  -0.108300452035545|0.00527359678253453|-0.190320518742841| -1.17557533186321| 0.647376034602038|-0.221928844458407|  0.0627228487293033| 0.0614576285006353| 123.5|    0|\n",
      "| 2.0| -1.15823309349523|  0.877736754848451|  1.548717846511| 0.403033933955121| -0.407193377311653| 0.0959214624684256|  0.592940745385545|-0.270532677192282| 0.817739308235294|  0.753074431976354|-0.822842877946363|  0.53819555014995|   1.3458515932154| -1.11966983471731| 0.175121130008994|-0.451449182813529|-0.237033239362776|-0.0381947870352842| 0.803486924960175|  0.408542360392758|-0.00943069713232919|   0.79827849458971|-0.137458079619063| 0.141266983824769|-0.206009587619756| 0.502292224181569|   0.219422229513348|  0.215153147499206| 69.99|    0|\n",
      "+----+------------------+-------------------+----------------+------------------+-------------------+-------------------+-------------------+------------------+------------------+-------------------+------------------+------------------+------------------+------------------+------------------+------------------+------------------+-------------------+------------------+-------------------+--------------------+-------------------+------------------+------------------+------------------+------------------+--------------------+-------------------+------+-----+\n",
      "only showing top 5 rows\n",
      "\n"
     ]
    }
   ],
   "source": [
    "df.show(5)"
   ]
  },
  {
   "cell_type": "code",
   "execution_count": 26,
   "metadata": {},
   "outputs": [
    {
     "name": "stdout",
     "output_type": "stream",
     "text": [
      "+-----+------+\n",
      "|Class| count|\n",
      "+-----+------+\n",
      "|    1|   492|\n",
      "|    0|284315|\n",
      "+-----+------+\n",
      "\n"
     ]
    }
   ],
   "source": [
    "counts = df.groupBy(\"Class\").count()\n",
    "counts.show()"
   ]
  },
  {
   "cell_type": "code",
   "execution_count": 27,
   "metadata": {},
   "outputs": [
    {
     "name": "stdout",
     "output_type": "stream",
     "text": [
      "Numero de Linhas: 284807\n",
      "Numero de Colunas:31\n",
      "Esquema do DataFrame:\n",
      "root\n",
      " |-- Time: double (nullable = true)\n",
      " |-- V1: double (nullable = true)\n",
      " |-- V2: double (nullable = true)\n",
      " |-- V3: double (nullable = true)\n",
      " |-- V4: double (nullable = true)\n",
      " |-- V5: double (nullable = true)\n",
      " |-- V6: double (nullable = true)\n",
      " |-- V7: double (nullable = true)\n",
      " |-- V8: double (nullable = true)\n",
      " |-- V9: double (nullable = true)\n",
      " |-- V10: double (nullable = true)\n",
      " |-- V11: double (nullable = true)\n",
      " |-- V12: double (nullable = true)\n",
      " |-- V13: double (nullable = true)\n",
      " |-- V14: double (nullable = true)\n",
      " |-- V15: double (nullable = true)\n",
      " |-- V16: double (nullable = true)\n",
      " |-- V17: double (nullable = true)\n",
      " |-- V18: double (nullable = true)\n",
      " |-- V19: double (nullable = true)\n",
      " |-- V20: double (nullable = true)\n",
      " |-- V21: double (nullable = true)\n",
      " |-- V22: double (nullable = true)\n",
      " |-- V23: double (nullable = true)\n",
      " |-- V24: double (nullable = true)\n",
      " |-- V25: double (nullable = true)\n",
      " |-- V26: double (nullable = true)\n",
      " |-- V27: double (nullable = true)\n",
      " |-- V28: double (nullable = true)\n",
      " |-- Amount: double (nullable = true)\n",
      " |-- Class: integer (nullable = true)\n",
      "\n"
     ]
    }
   ],
   "source": [
    "print(f\"Numero de Linhas: {df.count()}\")\n",
    "print(f\"Numero de Colunas:{len(df.columns)}\")\n",
    "print(\"Esquema do DataFrame:\")\n",
    "df.printSchema()"
   ]
  },
  {
   "attachments": {},
   "cell_type": "markdown",
   "metadata": {},
   "source": [
    "- Aqui Conseguimos ver que o nosso dataset tem 284807 items e 31 caracteristicas, assim como podemos verificar que todas as caracteristicas podem aceitar valores nulos."
   ]
  },
  {
   "attachments": {},
   "cell_type": "markdown",
   "metadata": {},
   "source": [
    "## Sumarizaçao dos Dados\n",
    "- Teem uma dimensao de 284807 entidades e 31 caracteristicas.\n",
    "- Teem uma grande amostra de casos de nao-fraude (492) e muito poucos de fraude (284315), o que pode levar a problemas na detecao de fraunde por nao ter amostra suficiente"
   ]
  },
  {
   "attachments": {},
   "cell_type": "markdown",
   "metadata": {},
   "source": [
    "## Gráficos:"
   ]
  },
  {
   "attachments": {},
   "cell_type": "markdown",
   "metadata": {},
   "source": [
    "### graficos para todas as caracteristicas e a sua distribuiçao"
   ]
  },
  {
   "cell_type": "code",
   "execution_count": 44,
   "metadata": {},
   "outputs": [],
   "source": [
    "num_cols = [i for i in df.columns]\n",
    "df_num = df.select(num_cols)"
   ]
  },
  {
   "cell_type": "code",
   "execution_count": 50,
   "metadata": {},
   "outputs": [
    {
     "data": {
      "text/plain": [
       "array([[<AxesSubplot:title={'center':'Time'}>,\n",
       "        <AxesSubplot:title={'center':'V1'}>,\n",
       "        <AxesSubplot:title={'center':'V2'}>,\n",
       "        <AxesSubplot:title={'center':'V3'}>,\n",
       "        <AxesSubplot:title={'center':'V4'}>,\n",
       "        <AxesSubplot:title={'center':'V5'}>],\n",
       "       [<AxesSubplot:title={'center':'V6'}>,\n",
       "        <AxesSubplot:title={'center':'V7'}>,\n",
       "        <AxesSubplot:title={'center':'V8'}>,\n",
       "        <AxesSubplot:title={'center':'V9'}>,\n",
       "        <AxesSubplot:title={'center':'V10'}>,\n",
       "        <AxesSubplot:title={'center':'V11'}>],\n",
       "       [<AxesSubplot:title={'center':'V12'}>,\n",
       "        <AxesSubplot:title={'center':'V13'}>,\n",
       "        <AxesSubplot:title={'center':'V14'}>,\n",
       "        <AxesSubplot:title={'center':'V15'}>,\n",
       "        <AxesSubplot:title={'center':'V16'}>,\n",
       "        <AxesSubplot:title={'center':'V17'}>],\n",
       "       [<AxesSubplot:title={'center':'V18'}>,\n",
       "        <AxesSubplot:title={'center':'V19'}>,\n",
       "        <AxesSubplot:title={'center':'V20'}>,\n",
       "        <AxesSubplot:title={'center':'V21'}>,\n",
       "        <AxesSubplot:title={'center':'V22'}>,\n",
       "        <AxesSubplot:title={'center':'V23'}>],\n",
       "       [<AxesSubplot:title={'center':'V24'}>,\n",
       "        <AxesSubplot:title={'center':'V25'}>,\n",
       "        <AxesSubplot:title={'center':'V26'}>,\n",
       "        <AxesSubplot:title={'center':'V27'}>,\n",
       "        <AxesSubplot:title={'center':'V28'}>,\n",
       "        <AxesSubplot:title={'center':'Amount'}>],\n",
       "       [<AxesSubplot:title={'center':'Class'}>, <AxesSubplot:>,\n",
       "        <AxesSubplot:>, <AxesSubplot:>, <AxesSubplot:>, <AxesSubplot:>]],\n",
       "      dtype=object)"
      ]
     },
     "execution_count": 50,
     "metadata": {},
     "output_type": "execute_result"
    },
    {
     "data": {
      "image/png": "[encoded data removed]",
      "text/plain": [
       "<Figure size 1500x1500 with 36 Axes>"
      ]
     },
     "metadata": {},
     "output_type": "display_data"
    }
   ],
   "source": [
    "df_num.toPandas().hist(figsize=[15,15],bins=5, color='orange', histtype='bar', ec='black')\n"
   ]
  },
  {
   "attachments": {},
   "cell_type": "markdown",
   "metadata": {},
   "source": [
    "#### Breve explicaçao dos graficos:"
   ]
  },
  {
   "attachments": {},
   "cell_type": "markdown",
   "metadata": {},
   "source": [
    "- Estes histogramas estao a ser apresentados com o objetivo de mostrar a distribuiçao dos valores pelo count de um determinado valor."
   ]
  },
  {
   "attachments": {},
   "cell_type": "markdown",
   "metadata": {},
   "source": [
    "#### Breve analise dos graficos:"
   ]
  },
  {
   "attachments": {},
   "cell_type": "markdown",
   "metadata": {},
   "source": [
    "- Time - Nao ha muito que se possa retirar deste histograma, apenas que tem valores significativos a correr ao longo de todo o percurso. Significa que nao houve um tempo relevante sem haver nenhuma transaçao\n",
    "- Vs - Nao conseguimos tirar informaçao relevante por nao se saber a natureza dos dados.\n",
    "- Amount - Conseguimos verificar que a grande maioria das transaçoes está concentrada em valores de até 5000\n",
    "- Class - Conseguimos verificar que existe uma concentraçao muito maior no valor 0, correspondente a \"Nao é fraude\". Isto é bom no entanto por haver uma grande disparidade na quantidade de dados entre valores positivos e negativos poderá levar a problemas na nossa previsao de resultados com machine learning."
   ]
  },
  {
   "attachments": {},
   "cell_type": "markdown",
   "metadata": {},
   "source": [
    "## Tratamento dos dados"
   ]
  },
  {
   "attachments": {},
   "cell_type": "markdown",
   "metadata": {},
   "source": [
    "### Pré-processamento:"
   ]
  },
  {
   "attachments": {},
   "cell_type": "markdown",
   "metadata": {},
   "source": [
    "#### Vamos começar por verificar a existencia de valores nulos."
   ]
  },
  {
   "cell_type": "code",
   "execution_count": 33,
   "metadata": {},
   "outputs": [],
   "source": [
    "null_values = []\n",
    "for col in df.columns:\n",
    "    null_values.append((col, df.filter(df[col].isNull()).count()))"
   ]
  },
  {
   "cell_type": "code",
   "execution_count": 36,
   "metadata": {},
   "outputs": [
    {
     "name": "stdout",
     "output_type": "stream",
     "text": [
      "Nao ha valores nulos\n"
     ]
    }
   ],
   "source": [
    "col_count = 0\n",
    "null_col_count = 0\n",
    "for col, value in null_values:\n",
    "    col_count = col_count + 1\n",
    "    if value == 0:\n",
    "        null_col_count = null_col_count + 1\n",
    "    else:\n",
    "        print(f\"{col} : {value} missing values\")\n",
    "if col_count == null_col_count:\n",
    "    print(\"Nao ha valores nulos\")"
   ]
  },
  {
   "attachments": {},
   "cell_type": "markdown",
   "metadata": {},
   "source": [
    "### Tranformaçao de dados"
   ]
  },
  {
   "attachments": {},
   "cell_type": "markdown",
   "metadata": {},
   "source": [
    "- Aqui vamos pegar em todas as caracteristicas dos dados exceto a variavel target e criar um objeto vetor para o item. Vamos fazer isto para obter um resultado de: \n",
    "- [Caracteristica 1 | C2 | C3 | C4 | ... | Class] para:\n",
    "- [C1 | Class]"
   ]
  },
  {
   "cell_type": "code",
   "execution_count": 38,
   "metadata": {},
   "outputs": [],
   "source": [
    "cols = df.columns\n",
    "cols.remove('Class')"
   ]
  },
  {
   "attachments": {},
   "cell_type": "markdown",
   "metadata": {},
   "source": [
    "Primeiro adicionamos todas as colunas a uma variavel e removemos apenas a ultima coluna."
   ]
  },
  {
   "cell_type": "code",
   "execution_count": 39,
   "metadata": {},
   "outputs": [],
   "source": [
    "assembler = VectorAssembler(inputCols= cols, outputCol= 'features')"
   ]
  },
  {
   "attachments": {},
   "cell_type": "markdown",
   "metadata": {},
   "source": [
    "Em seguida fomos \"colar\" as caracteristicas dentro desta nova variavel e dar o nome ao conjunto de \"features\""
   ]
  },
  {
   "cell_type": "code",
   "execution_count": 40,
   "metadata": {},
   "outputs": [],
   "source": [
    "df = assembler.transform(df)"
   ]
  },
  {
   "attachments": {},
   "cell_type": "markdown",
   "metadata": {},
   "source": [
    "Agora vamos visualizar os dados depois de serem tratados, e vamos poder observar que de 30 passamos a ter apenas 2 colunas e vamos usar a coluna das features para prever a da class, uma vez que a features nao e nada mais nada menos que todas as outras 29 caracteristicas juntas."
   ]
  },
  {
   "cell_type": "code",
   "execution_count": 41,
   "metadata": {},
   "outputs": [
    {
     "name": "stdout",
     "output_type": "stream",
     "text": [
      "+--------------------+-----+\n",
      "|            features|Class|\n",
      "+--------------------+-----+\n",
      "|[0.0,-1.359807133...|    0|\n",
      "|[0.0,1.1918571113...|    0|\n",
      "|[1.0,-1.358354061...|    0|\n",
      "|[1.0,-0.966271711...|    0|\n",
      "|[2.0,-1.158233093...|    0|\n",
      "+--------------------+-----+\n",
      "only showing top 5 rows\n",
      "\n"
     ]
    }
   ],
   "source": [
    "df = df.select(['features', 'Class'])\n",
    "df.show(5)"
   ]
  },
  {
   "attachments": {},
   "cell_type": "markdown",
   "metadata": {},
   "source": [
    "## Aplicar Modelos de Machine Learning\n",
    "Neste trabalho vao ser usados 2 modelos de machine learning, a Regressao logistica e o random forest. Estes modelos foram escolhidos por serem bons candidatos a tratar de classificacao binaria, que era o caso do nosso dataset."
   ]
  },
  {
   "attachments": {},
   "cell_type": "markdown",
   "metadata": {},
   "source": [
    "### Defenir Test/Split\n",
    "Neste caso vamos fazer o split a 70% dos dados para treino e os restantes 30% para teste"
   ]
  },
  {
   "cell_type": "code",
   "execution_count": 15,
   "metadata": {},
   "outputs": [],
   "source": [
    "training, testing= df.randomSplit([0.7, 0.3])"
   ]
  },
  {
   "attachments": {},
   "cell_type": "markdown",
   "metadata": {},
   "source": [
    "### Modelo - Regressao Logistica"
   ]
  },
  {
   "attachments": {},
   "cell_type": "markdown",
   "metadata": {},
   "source": [
    "#### treino e teste do modelo"
   ]
  },
  {
   "cell_type": "code",
   "execution_count": 16,
   "metadata": {},
   "outputs": [],
   "source": [
    "lr = LogisticRegression(labelCol='Class', featuresCol='features')\n",
    "model= lr.fit(training) # fit dos dados de treino\n",
    "predictions = model.transform(testing) # teste do modelo com os dados de teste"
   ]
  },
  {
   "attachments": {},
   "cell_type": "markdown",
   "metadata": {},
   "source": [
    "#### Verificar resultados do teste"
   ]
  },
  {
   "cell_type": "code",
   "execution_count": 17,
   "metadata": {},
   "outputs": [
    {
     "data": {
      "text/plain": [
       "0.9697310527580402"
      ]
     },
     "execution_count": 17,
     "metadata": {},
     "output_type": "execute_result"
    }
   ],
   "source": [
    "evaluator = BinaryClassificationEvaluator(labelCol='Class', rawPredictionCol='rawPrediction')\n",
    "accuracy = evaluator.evaluate(predictions)\n",
    "accuracy"
   ]
  },
  {
   "attachments": {},
   "cell_type": "markdown",
   "metadata": {},
   "source": [
    "Com isto temos um modelo de previsao a usar regressao logistica em que obtivemos uma precisao de aproximadamente 98%"
   ]
  },
  {
   "attachments": {},
   "cell_type": "markdown",
   "metadata": {},
   "source": [
    "#### tabela com a previsao"
   ]
  },
  {
   "cell_type": "code",
   "execution_count": 18,
   "metadata": {},
   "outputs": [
    {
     "data": {
      "text/html": [
       "<div>\n",
       "<style scoped>\n",
       "    .dataframe tbody tr th:only-of-type {\n",
       "        vertical-align: middle;\n",
       "    }\n",
       "\n",
       "    .dataframe tbody tr th {\n",
       "        vertical-align: top;\n",
       "    }\n",
       "\n",
       "    .dataframe thead th {\n",
       "        text-align: right;\n",
       "    }\n",
       "</style>\n",
       "<table border=\"1\" class=\"dataframe\">\n",
       "  <thead>\n",
       "    <tr style=\"text-align: right;\">\n",
       "      <th></th>\n",
       "      <th>features</th>\n",
       "      <th>Class</th>\n",
       "      <th>rawPrediction</th>\n",
       "      <th>probability</th>\n",
       "      <th>prediction</th>\n",
       "    </tr>\n",
       "  </thead>\n",
       "  <tbody>\n",
       "    <tr>\n",
       "      <th>0</th>\n",
       "      <td>[10.0, 1.44904378114715, -1.17633882535966, 0....</td>\n",
       "      <td>0</td>\n",
       "      <td>[9.676652548297383, -9.676652548297383]</td>\n",
       "      <td>[0.9999372727927788, 6.272720722122482e-05]</td>\n",
       "      <td>0.0</td>\n",
       "    </tr>\n",
       "    <tr>\n",
       "      <th>1</th>\n",
       "      <td>[12.0, -2.7918547659339, -0.327770756658658, 1...</td>\n",
       "      <td>0</td>\n",
       "      <td>[6.703446032088004, -6.703446032088004]</td>\n",
       "      <td>[0.9987748254529829, 0.0012251745470170938]</td>\n",
       "      <td>0.0</td>\n",
       "    </tr>\n",
       "    <tr>\n",
       "      <th>2</th>\n",
       "      <td>[16.0, 0.694884775607337, -1.36181910308009, 1...</td>\n",
       "      <td>0</td>\n",
       "      <td>[8.88536619773032, -8.88536619773032]</td>\n",
       "      <td>[0.9998616196614877, 0.0001383803385123228]</td>\n",
       "      <td>0.0</td>\n",
       "    </tr>\n",
       "    <tr>\n",
       "      <th>3</th>\n",
       "      <td>[18.0, 0.247491127783665, 0.277665627353681, 1...</td>\n",
       "      <td>0</td>\n",
       "      <td>[7.277680717978781, -7.277680717978781]</td>\n",
       "      <td>[0.9993096910212618, 0.0006903089787382299]</td>\n",
       "      <td>0.0</td>\n",
       "    </tr>\n",
       "    <tr>\n",
       "      <th>4</th>\n",
       "      <td>[22.0, -1.94652513121534, -0.0449005054418194,...</td>\n",
       "      <td>0</td>\n",
       "      <td>[11.623858808409619, -11.623858808409619]</td>\n",
       "      <td>[0.9999910500960569, 8.949903943067383e-06]</td>\n",
       "      <td>0.0</td>\n",
       "    </tr>\n",
       "    <tr>\n",
       "      <th>...</th>\n",
       "      <td>...</td>\n",
       "      <td>...</td>\n",
       "      <td>...</td>\n",
       "      <td>...</td>\n",
       "      <td>...</td>\n",
       "    </tr>\n",
       "    <tr>\n",
       "      <th>85219</th>\n",
       "      <td>[172769.0, -1.02971891697297, -1.1106695791175...</td>\n",
       "      <td>0</td>\n",
       "      <td>[8.154066803077358, -8.154066803077358]</td>\n",
       "      <td>[0.9997125191547755, 0.0002874808452244526]</td>\n",
       "      <td>0.0</td>\n",
       "    </tr>\n",
       "    <tr>\n",
       "      <th>85220</th>\n",
       "      <td>[172770.0, -0.446950896052929, 1.3022123695422...</td>\n",
       "      <td>0</td>\n",
       "      <td>[7.749044063836653, -7.749044063836653]</td>\n",
       "      <td>[0.9995690313142689, 0.0004309686857311146]</td>\n",
       "      <td>0.0</td>\n",
       "    </tr>\n",
       "    <tr>\n",
       "      <th>85221</th>\n",
       "      <td>[172770.0, 2.00741802782449, -0.28023496951448...</td>\n",
       "      <td>0</td>\n",
       "      <td>[9.212862424238045, -9.212862424238045]</td>\n",
       "      <td>[0.9999002618361497, 9.973816385033807e-05]</td>\n",
       "      <td>0.0</td>\n",
       "    </tr>\n",
       "    <tr>\n",
       "      <th>85222</th>\n",
       "      <td>[172774.0, -0.724122855662227, 1.4852156432536...</td>\n",
       "      <td>0</td>\n",
       "      <td>[8.46793988892914, -8.46793988892914]</td>\n",
       "      <td>[0.9997899468500234, 0.00021005314997657454]</td>\n",
       "      <td>0.0</td>\n",
       "    </tr>\n",
       "    <tr>\n",
       "      <th>85223</th>\n",
       "      <td>[172782.0, -0.241922923693151, 0.7122465322032...</td>\n",
       "      <td>0</td>\n",
       "      <td>[9.324214976616915, -9.324214976616915]</td>\n",
       "      <td>[0.9999107709777384, 8.922902226160545e-05]</td>\n",
       "      <td>0.0</td>\n",
       "    </tr>\n",
       "  </tbody>\n",
       "</table>\n",
       "<p>85224 rows × 5 columns</p>\n",
       "</div>"
      ],
      "text/plain": [
       "                                                features  Class  \\\n",
       "0      [10.0, 1.44904378114715, -1.17633882535966, 0....      0   \n",
       "1      [12.0, -2.7918547659339, -0.327770756658658, 1...      0   \n",
       "2      [16.0, 0.694884775607337, -1.36181910308009, 1...      0   \n",
       "3      [18.0, 0.247491127783665, 0.277665627353681, 1...      0   \n",
       "4      [22.0, -1.94652513121534, -0.0449005054418194,...      0   \n",
       "...                                                  ...    ...   \n",
       "85219  [172769.0, -1.02971891697297, -1.1106695791175...      0   \n",
       "85220  [172770.0, -0.446950896052929, 1.3022123695422...      0   \n",
       "85221  [172770.0, 2.00741802782449, -0.28023496951448...      0   \n",
       "85222  [172774.0, -0.724122855662227, 1.4852156432536...      0   \n",
       "85223  [172782.0, -0.241922923693151, 0.7122465322032...      0   \n",
       "\n",
       "                                   rawPrediction  \\\n",
       "0        [9.676652548297383, -9.676652548297383]   \n",
       "1        [6.703446032088004, -6.703446032088004]   \n",
       "2          [8.88536619773032, -8.88536619773032]   \n",
       "3        [7.277680717978781, -7.277680717978781]   \n",
       "4      [11.623858808409619, -11.623858808409619]   \n",
       "...                                          ...   \n",
       "85219    [8.154066803077358, -8.154066803077358]   \n",
       "85220    [7.749044063836653, -7.749044063836653]   \n",
       "85221    [9.212862424238045, -9.212862424238045]   \n",
       "85222      [8.46793988892914, -8.46793988892914]   \n",
       "85223    [9.324214976616915, -9.324214976616915]   \n",
       "\n",
       "                                        probability  prediction  \n",
       "0       [0.9999372727927788, 6.272720722122482e-05]         0.0  \n",
       "1       [0.9987748254529829, 0.0012251745470170938]         0.0  \n",
       "2       [0.9998616196614877, 0.0001383803385123228]         0.0  \n",
       "3       [0.9993096910212618, 0.0006903089787382299]         0.0  \n",
       "4       [0.9999910500960569, 8.949903943067383e-06]         0.0  \n",
       "...                                             ...         ...  \n",
       "85219   [0.9997125191547755, 0.0002874808452244526]         0.0  \n",
       "85220   [0.9995690313142689, 0.0004309686857311146]         0.0  \n",
       "85221   [0.9999002618361497, 9.973816385033807e-05]         0.0  \n",
       "85222  [0.9997899468500234, 0.00021005314997657454]         0.0  \n",
       "85223   [0.9999107709777384, 8.922902226160545e-05]         0.0  \n",
       "\n",
       "[85224 rows x 5 columns]"
      ]
     },
     "execution_count": 18,
     "metadata": {},
     "output_type": "execute_result"
    }
   ],
   "source": [
    "predictions.toPandas()"
   ]
  },
  {
   "attachments": {},
   "cell_type": "markdown",
   "metadata": {},
   "source": [
    "### Modelo - Random forest"
   ]
  },
  {
   "attachments": {},
   "cell_type": "markdown",
   "metadata": {},
   "source": [
    "#### treino e teste do modelo\n",
    "Neste caso, estamos a fazer um modelo com uma profuncidade maxima de 5 para evitar overfitting."
   ]
  },
  {
   "cell_type": "code",
   "execution_count": 19,
   "metadata": {},
   "outputs": [],
   "source": [
    "rf = RandomForestClassifier(labelCol=\"Class\", featuresCol=\"features\", maxDepth= 5)\n",
    "model = rf.fit(training)\n",
    "predictions = model.transform(testing) # teste do modelo com os dados de teste"
   ]
  },
  {
   "attachments": {},
   "cell_type": "markdown",
   "metadata": {},
   "source": [
    "#### verificar resultados do teste"
   ]
  },
  {
   "cell_type": "code",
   "execution_count": 20,
   "metadata": {},
   "outputs": [
    {
     "data": {
      "text/plain": [
       "0.9670332541925177"
      ]
     },
     "execution_count": 20,
     "metadata": {},
     "output_type": "execute_result"
    }
   ],
   "source": [
    "evaluator = BinaryClassificationEvaluator(labelCol='Class', rawPredictionCol='rawPrediction')\n",
    "accuracy = evaluator.evaluate(predictions)\n",
    "accuracy"
   ]
  },
  {
   "attachments": {},
   "cell_type": "markdown",
   "metadata": {},
   "source": [
    "Com isto temos um modelo de previsao a usar o Random Forest em que obtivemos uma precisao de aproximadamente 96%"
   ]
  },
  {
   "attachments": {},
   "cell_type": "markdown",
   "metadata": {},
   "source": [
    "#### tabela com a previsao"
   ]
  },
  {
   "cell_type": "code",
   "execution_count": 21,
   "metadata": {},
   "outputs": [
    {
     "data": {
      "text/html": [
       "<div>\n",
       "<style scoped>\n",
       "    .dataframe tbody tr th:only-of-type {\n",
       "        vertical-align: middle;\n",
       "    }\n",
       "\n",
       "    .dataframe tbody tr th {\n",
       "        vertical-align: top;\n",
       "    }\n",
       "\n",
       "    .dataframe thead th {\n",
       "        text-align: right;\n",
       "    }\n",
       "</style>\n",
       "<table border=\"1\" class=\"dataframe\">\n",
       "  <thead>\n",
       "    <tr style=\"text-align: right;\">\n",
       "      <th></th>\n",
       "      <th>features</th>\n",
       "      <th>Class</th>\n",
       "      <th>rawPrediction</th>\n",
       "      <th>probability</th>\n",
       "      <th>prediction</th>\n",
       "    </tr>\n",
       "  </thead>\n",
       "  <tbody>\n",
       "    <tr>\n",
       "      <th>0</th>\n",
       "      <td>[10.0, 1.44904378114715, -1.17633882535966, 0....</td>\n",
       "      <td>0</td>\n",
       "      <td>[19.9953404518565, 0.0046595481434967955]</td>\n",
       "      <td>[0.9997670225928251, 0.0002329774071748398]</td>\n",
       "      <td>0.0</td>\n",
       "    </tr>\n",
       "    <tr>\n",
       "      <th>1</th>\n",
       "      <td>[12.0, -2.7918547659339, -0.327770756658658, 1...</td>\n",
       "      <td>0</td>\n",
       "      <td>[19.993730391353413, 0.006269608646583751]</td>\n",
       "      <td>[0.9996865195676709, 0.00031348043232918763]</td>\n",
       "      <td>0.0</td>\n",
       "    </tr>\n",
       "    <tr>\n",
       "      <th>2</th>\n",
       "      <td>[16.0, 0.694884775607337, -1.36181910308009, 1...</td>\n",
       "      <td>0</td>\n",
       "      <td>[19.9953404518565, 0.0046595481434967955]</td>\n",
       "      <td>[0.9997670225928251, 0.0002329774071748398]</td>\n",
       "      <td>0.0</td>\n",
       "    </tr>\n",
       "    <tr>\n",
       "      <th>3</th>\n",
       "      <td>[18.0, 0.247491127783665, 0.277665627353681, 1...</td>\n",
       "      <td>0</td>\n",
       "      <td>[19.9953404518565, 0.0046595481434967955]</td>\n",
       "      <td>[0.9997670225928251, 0.0002329774071748398]</td>\n",
       "      <td>0.0</td>\n",
       "    </tr>\n",
       "    <tr>\n",
       "      <th>4</th>\n",
       "      <td>[22.0, -1.94652513121534, -0.0449005054418194,...</td>\n",
       "      <td>0</td>\n",
       "      <td>[19.9953404518565, 0.0046595481434967955]</td>\n",
       "      <td>[0.9997670225928251, 0.0002329774071748398]</td>\n",
       "      <td>0.0</td>\n",
       "    </tr>\n",
       "    <tr>\n",
       "      <th>...</th>\n",
       "      <td>...</td>\n",
       "      <td>...</td>\n",
       "      <td>...</td>\n",
       "      <td>...</td>\n",
       "      <td>...</td>\n",
       "    </tr>\n",
       "    <tr>\n",
       "      <th>85219</th>\n",
       "      <td>[172769.0, -1.02971891697297, -1.1106695791175...</td>\n",
       "      <td>0</td>\n",
       "      <td>[19.9927327368346, 0.007267263165397305]</td>\n",
       "      <td>[0.9996366368417302, 0.0003633631582698653]</td>\n",
       "      <td>0.0</td>\n",
       "    </tr>\n",
       "    <tr>\n",
       "      <th>85220</th>\n",
       "      <td>[172770.0, -0.446950896052929, 1.3022123695422...</td>\n",
       "      <td>0</td>\n",
       "      <td>[19.9953404518565, 0.0046595481434967955]</td>\n",
       "      <td>[0.9997670225928251, 0.0002329774071748398]</td>\n",
       "      <td>0.0</td>\n",
       "    </tr>\n",
       "    <tr>\n",
       "      <th>85221</th>\n",
       "      <td>[172770.0, 2.00741802782449, -0.28023496951448...</td>\n",
       "      <td>0</td>\n",
       "      <td>[19.9953404518565, 0.0046595481434967955]</td>\n",
       "      <td>[0.9997670225928251, 0.0002329774071748398]</td>\n",
       "      <td>0.0</td>\n",
       "    </tr>\n",
       "    <tr>\n",
       "      <th>85222</th>\n",
       "      <td>[172774.0, -0.724122855662227, 1.4852156432536...</td>\n",
       "      <td>0</td>\n",
       "      <td>[19.995060753771806, 0.004939246228189483]</td>\n",
       "      <td>[0.9997530376885905, 0.0002469623114094742]</td>\n",
       "      <td>0.0</td>\n",
       "    </tr>\n",
       "    <tr>\n",
       "      <th>85223</th>\n",
       "      <td>[172782.0, -0.241922923693151, 0.7122465322032...</td>\n",
       "      <td>0</td>\n",
       "      <td>[19.9953404518565, 0.0046595481434967955]</td>\n",
       "      <td>[0.9997670225928251, 0.0002329774071748398]</td>\n",
       "      <td>0.0</td>\n",
       "    </tr>\n",
       "  </tbody>\n",
       "</table>\n",
       "<p>85224 rows × 5 columns</p>\n",
       "</div>"
      ],
      "text/plain": [
       "                                                features  Class  \\\n",
       "0      [10.0, 1.44904378114715, -1.17633882535966, 0....      0   \n",
       "1      [12.0, -2.7918547659339, -0.327770756658658, 1...      0   \n",
       "2      [16.0, 0.694884775607337, -1.36181910308009, 1...      0   \n",
       "3      [18.0, 0.247491127783665, 0.277665627353681, 1...      0   \n",
       "4      [22.0, -1.94652513121534, -0.0449005054418194,...      0   \n",
       "...                                                  ...    ...   \n",
       "85219  [172769.0, -1.02971891697297, -1.1106695791175...      0   \n",
       "85220  [172770.0, -0.446950896052929, 1.3022123695422...      0   \n",
       "85221  [172770.0, 2.00741802782449, -0.28023496951448...      0   \n",
       "85222  [172774.0, -0.724122855662227, 1.4852156432536...      0   \n",
       "85223  [172782.0, -0.241922923693151, 0.7122465322032...      0   \n",
       "\n",
       "                                    rawPrediction  \\\n",
       "0       [19.9953404518565, 0.0046595481434967955]   \n",
       "1      [19.993730391353413, 0.006269608646583751]   \n",
       "2       [19.9953404518565, 0.0046595481434967955]   \n",
       "3       [19.9953404518565, 0.0046595481434967955]   \n",
       "4       [19.9953404518565, 0.0046595481434967955]   \n",
       "...                                           ...   \n",
       "85219    [19.9927327368346, 0.007267263165397305]   \n",
       "85220   [19.9953404518565, 0.0046595481434967955]   \n",
       "85221   [19.9953404518565, 0.0046595481434967955]   \n",
       "85222  [19.995060753771806, 0.004939246228189483]   \n",
       "85223   [19.9953404518565, 0.0046595481434967955]   \n",
       "\n",
       "                                        probability  prediction  \n",
       "0       [0.9997670225928251, 0.0002329774071748398]         0.0  \n",
       "1      [0.9996865195676709, 0.00031348043232918763]         0.0  \n",
       "2       [0.9997670225928251, 0.0002329774071748398]         0.0  \n",
       "3       [0.9997670225928251, 0.0002329774071748398]         0.0  \n",
       "4       [0.9997670225928251, 0.0002329774071748398]         0.0  \n",
       "...                                             ...         ...  \n",
       "85219   [0.9996366368417302, 0.0003633631582698653]         0.0  \n",
       "85220   [0.9997670225928251, 0.0002329774071748398]         0.0  \n",
       "85221   [0.9997670225928251, 0.0002329774071748398]         0.0  \n",
       "85222   [0.9997530376885905, 0.0002469623114094742]         0.0  \n",
       "85223   [0.9997670225928251, 0.0002329774071748398]         0.0  \n",
       "\n",
       "[85224 rows x 5 columns]"
      ]
     },
     "execution_count": 21,
     "metadata": {},
     "output_type": "execute_result"
    }
   ],
   "source": [
    "predictions.toPandas()"
   ]
  },
  {
   "attachments": {},
   "cell_type": "markdown",
   "metadata": {},
   "source": [
    "# Conclusao \n",
    "Neste trabalho foi utilizado o PySpark para carregar, processar e analisar um dataset. Em seguida foi utilizado o MLlib para treinar e avaliar modelos de machine learning. Como modelos foram usados a regressao logistica e o Random Forest. Ambos os modelos optiveram um desempenho que consideramos adequado na previsao de se havia fraude ou nao na transacao. Estamos satisfeitos com os resultados obtidos. Podendo até dizer que correu melhor que o esperado dada a disparidade entre os dados da variavel target."
   ]
  }
 ],
 "metadata": {
  "kernelspec": {
   "display_name": "Python 3",
   "language": "python",
   "name": "python3"
  },
  "language_info": {
   "codemirror_mode": {
    "name": "ipython",
    "version": 3
   },
   "file_extension": ".py",
   "mimetype": "text/x-python",
   "name": "python",
   "nbconvert_exporter": "python",
   "pygments_lexer": "ipython3",
   "version": "3.10.9"
  },
  "orig_nbformat": 4,
  "vscode": {
   "interpreter": {
    "hash": "eb16354a1c2de8adaa603eaacf2cb5d11cea9f2c541a9c0507296819f01c98b7"
   }
  }
 },
 "nbformat": 4,
 "nbformat_minor": 2
}
