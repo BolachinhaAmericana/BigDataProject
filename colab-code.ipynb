{
  "nbformat": 4,
  "nbformat_minor": 0,
  "metadata": {
    "colab": {
      "provenance": [],
      "mount_file_id": "1hd0gYkgvhWsKhrQUrS-2MSL3RWpt6V8K",
      "authorship_tag": "ABX9TyNpq721tdCErQAyKb6TNBu7",
      "include_colab_link": true
    },
    "kernelspec": {
      "name": "python3",
      "display_name": "Python 3"
    },
    "language_info": {
      "name": "python"
    }
  },
  "cells": [
    {
      "cell_type": "markdown",
      "metadata": {
        "id": "view-in-github",
        "colab_type": "text"
      },
      "source": [
        "<a href=\"https://colab.research.google.com/github/BolachinhaAmericana/BigDataProject/blob/main/colab-code.ipynb\" target=\"_parent\"><img src=\"https://colab.research.google.com/assets/colab-badge.svg\" alt=\"Open In Colab\"/></a>"
      ]
    },
    {
      "cell_type": "markdown",
      "source": [
        "# Capa"
      ],
      "metadata": {
        "id": "0u7icW3zUnq2"
      }
    },
    {
      "cell_type": "markdown",
      "source": [
        "<img src=\"./images/logo-ESTB.png\"\n",
        "     alt=\"ESTBarreiro\"\n",
        "     style=\"float: left; margin-right: 10px;\" />\n",
        "<br/><br/>\n",
        "<br/><br/>\n",
        "<br/><br/>\n",
        "<br/><br/>\n",
        "- ESTBarreiro - IPS Bioinformatica - Janeiro 2023\n",
        "- Ano 3, semestre 1\n",
        "- UC: Big Data\n",
        "- Duarte Valente - 202000053\n",
        "- Guilherme Sá   - 202000201\n",
        "- Docentes: Raquel Barreira e António Gonçalves"
      ],
      "metadata": {
        "id": "w4MQ_Fi3Untx"
      }
    },
    {
      "cell_type": "markdown",
      "source": [
        "# Introduçao"
      ],
      "metadata": {
        "id": "8Jzf2_8AUnwl"
      }
    },
    {
      "cell_type": "markdown",
      "source": [
        "## Objetivos deste trabalho:\n",
        "- Este projeto tem como principal objetivo dar-nos a conhecer e utilizar o Spark no contexto de Machine Leaning.\n",
        "- Aqui vamos usar tecnicas de machine learning para analisar uma grande quantidade de dados e prever resultados para um determinado problema, assim como usar o spark para ler e apresentar resultados relativamente aos modelos de ML.\n",
        "- Tudo isto tem o intuito de simular um ambiente de grande escala e alta performance.\n",
        "## Introducao ao dataset utilizado\n",
        "- Nome: SparkML - Credit Card Fraud - KMA\n",
        "- Nome do dataset: creditcard.csv\n",
        "- O nosso dataset pode ser encontrado [aqui](https://www.kaggle.com/code/ukveteran/sparkml-credit-card-fraud-jma/data)\n",
        "- Este conjunto de dados é, nada mais nada menos que informaçoes sobre transaçoes de credit cards.\n",
        "- Com isto, o objetivo do trabalho será prever, de acordo com as caracteristicas de uma transaçao, se a mesma é ou nao fraude.\n",
        "\n",
        "\n",
        "\n",
        "\n",
        "\n",
        "\n"
      ],
      "metadata": {
        "id": "opHzk1HeUnzu"
      }
    },
    {
      "cell_type": "markdown",
      "source": [
        "# Projeto"
      ],
      "metadata": {
        "id": "AN8wpv1VUn2b"
      }
    },
    {
      "cell_type": "markdown",
      "source": [
        "## Instalar os packaged necessarios"
      ],
      "metadata": {
        "id": "Wi5nIcziUn5J"
      }
    },
    {
      "cell_type": "code",
      "source": [
        "%pip install pyspark\n"
      ],
      "metadata": {
        "colab": {
          "base_uri": "https://localhost:8080/"
        },
        "id": "LZJcQqLUYLgU",
        "outputId": "e734c67b-e1ee-4c44-88f0-546dc7c89391"
      },
      "execution_count": 2,
      "outputs": [
        {
          "output_type": "stream",
          "name": "stdout",
          "text": [
            "Looking in indexes: https://pypi.org/simple, https://us-python.pkg.dev/colab-wheels/public/simple/\n",
            "Requirement already satisfied: pyspark in /usr/local/lib/python3.8/dist-packages (3.3.1)\n",
            "Requirement already satisfied: py4j==0.10.9.5 in /usr/local/lib/python3.8/dist-packages (from pyspark) (0.10.9.5)\n",
            "Looking in indexes: https://pypi.org/simple, https://us-python.pkg.dev/colab-wheels/public/simple/\n",
            "Requirement already satisfied: kaggle in /usr/local/lib/python3.8/dist-packages (1.5.12)\n",
            "Requirement already satisfied: python-dateutil in /usr/local/lib/python3.8/dist-packages (from kaggle) (2.8.2)\n",
            "Requirement already satisfied: requests in /usr/local/lib/python3.8/dist-packages (from kaggle) (2.25.1)\n",
            "Requirement already satisfied: six>=1.10 in /usr/local/lib/python3.8/dist-packages (from kaggle) (1.15.0)\n",
            "Requirement already satisfied: python-slugify in /usr/local/lib/python3.8/dist-packages (from kaggle) (7.0.0)\n",
            "Requirement already satisfied: certifi in /usr/local/lib/python3.8/dist-packages (from kaggle) (2022.12.7)\n",
            "Requirement already satisfied: urllib3 in /usr/local/lib/python3.8/dist-packages (from kaggle) (1.24.3)\n",
            "Requirement already satisfied: tqdm in /usr/local/lib/python3.8/dist-packages (from kaggle) (4.64.1)\n",
            "Requirement already satisfied: text-unidecode>=1.3 in /usr/local/lib/python3.8/dist-packages (from python-slugify->kaggle) (1.3)\n",
            "Requirement already satisfied: idna<3,>=2.5 in /usr/local/lib/python3.8/dist-packages (from requests->kaggle) (2.10)\n",
            "Requirement already satisfied: chardet<5,>=3.0.2 in /usr/local/lib/python3.8/dist-packages (from requests->kaggle) (4.0.0)\n"
          ]
        }
      ]
    },
    {
      "cell_type": "code",
      "source": [
        "# Spark Session imports\n",
        "from pyspark import SparkContext, SparkConf\n",
        "from pyspark.sql import SparkSession\n",
        "# Spark ML imports\n",
        "from pyspark.ml.feature import VectorAssembler\n",
        "from pyspark.ml.classification import LogisticRegression\n",
        "from pyspark.ml.evaluation import BinaryClassificationEvaluator\n",
        "from pyspark.ml.classification import RandomForestClassifier\n",
        "# other imports \n",
        "import matplotlib as plt"
      ],
      "metadata": {
        "id": "CmWbj_5pYQ4_"
      },
      "execution_count": 3,
      "outputs": []
    },
    {
      "cell_type": "markdown",
      "source": [
        "## Criar Ambiente do Spark\n",
        "- Aqui estamos a criar um ambiente de spark com o nome de CreditcardPrediction e com o computador master\n",
        "- Quando se trabalha com o Spark temos de criar uma Sessao SparkSession para gerir todas as configuraçoes do nosso ambienter de spark."
      ],
      "metadata": {
        "id": "RrXqRJijUn-p"
      }
    },
    {
      "cell_type": "code",
      "source": [
        "conf= SparkConf().setAppName('CreditCardPrediction').setMaster('local[*]')\n",
        "sc= SparkContext.getOrCreate(conf=conf)\n",
        "spark = SparkSession(sc)\n",
        "spark"
      ],
      "metadata": {
        "colab": {
          "base_uri": "https://localhost:8080/",
          "height": 219
        },
        "id": "6VSJTAJ4YYWJ",
        "outputId": "b8dbec3b-8f42-4d75-dbfe-21f0f00a2a97"
      },
      "execution_count": 4,
      "outputs": [
        {
          "output_type": "execute_result",
          "data": {
            "text/plain": [
              "<pyspark.sql.session.SparkSession at 0x7fdadeee5760>"
            ],
            "text/html": [
              "\n",
              "            <div>\n",
              "                <p><b>SparkSession - in-memory</b></p>\n",
              "                \n",
              "        <div>\n",
              "            <p><b>SparkContext</b></p>\n",
              "\n",
              "            <p><a href=\"http://215fc2a48f69:4040\">Spark UI</a></p>\n",
              "\n",
              "            <dl>\n",
              "              <dt>Version</dt>\n",
              "                <dd><code>v3.3.1</code></dd>\n",
              "              <dt>Master</dt>\n",
              "                <dd><code>local[*]</code></dd>\n",
              "              <dt>AppName</dt>\n",
              "                <dd><code>CreditCardPrediction</code></dd>\n",
              "            </dl>\n",
              "        </div>\n",
              "        \n",
              "            </div>\n",
              "        "
            ]
          },
          "metadata": {},
          "execution_count": 4
        }
      ]
    },
    {
      "cell_type": "markdown",
      "source": [
        "## Importar os dados (creditcard.csv)"
      ],
      "metadata": {
        "id": "-4OZHkcXUoCC"
      }
    },
    {
      "cell_type": "markdown",
      "source": [
        "### Importar os dados pelo google drive"
      ],
      "metadata": {
        "id": "CDAxS2dqUoEx"
      }
    },
    {
      "cell_type": "markdown",
      "source": [
        "Temos de ter o dataset ou no mesmo path ou ajustar o mesmo manualmente."
      ],
      "metadata": {
        "id": "hLzOBKvVaFSK"
      }
    },
    {
      "cell_type": "code",
      "source": [
        "from google.colab import drive\n",
        "drive.mount('/content/drive')"
      ],
      "metadata": {
        "colab": {
          "base_uri": "https://localhost:8080/"
        },
        "id": "AIQfZGaxY27U",
        "outputId": "7c18ae03-4c54-47a8-d618-7f9e8209b6ba"
      },
      "execution_count": 5,
      "outputs": [
        {
          "output_type": "stream",
          "name": "stdout",
          "text": [
            "Drive already mounted at /content/drive; to attempt to forcibly remount, call drive.mount(\"/content/drive\", force_remount=True).\n"
          ]
        }
      ]
    },
    {
      "cell_type": "code",
      "source": [
        "df = spark.read.csv(\"../content/drive/MyDrive/Colab Notebooks/BigData/Datasets/creditcard.csv\", header=True, inferSchema=True)"
      ],
      "metadata": {
        "id": "XDIBlJ-rY7y1"
      },
      "execution_count": 9,
      "outputs": []
    },
    {
      "cell_type": "markdown",
      "source": [
        "## Visualisar dados\n",
        "Vamos simplesmente observar os dados, com o pandas, com o spark e ver a dimanesao e disparidade dos dados"
      ],
      "metadata": {
        "id": "E9QgN_g-UoH0"
      }
    },
    {
      "cell_type": "code",
      "source": [
        "df.toPandas().head()"
      ],
      "metadata": {
        "colab": {
          "base_uri": "https://localhost:8080/",
          "height": 300
        },
        "id": "Xg_v7KpcaWqt",
        "outputId": "0f32e866-0c12-48de-b583-106c522a99fa"
      },
      "execution_count": 10,
      "outputs": [
        {
          "output_type": "execute_result",
          "data": {
            "text/plain": [
              "   Time        V1        V2        V3        V4        V5        V6        V7  \\\n",
              "0   0.0 -1.359807 -0.072781  2.536347  1.378155 -0.338321  0.462388  0.239599   \n",
              "1   0.0  1.191857  0.266151  0.166480  0.448154  0.060018 -0.082361 -0.078803   \n",
              "2   1.0 -1.358354 -1.340163  1.773209  0.379780 -0.503198  1.800499  0.791461   \n",
              "3   1.0 -0.966272 -0.185226  1.792993 -0.863291 -0.010309  1.247203  0.237609   \n",
              "4   2.0 -1.158233  0.877737  1.548718  0.403034 -0.407193  0.095921  0.592941   \n",
              "\n",
              "         V8        V9  ...       V21       V22       V23       V24       V25  \\\n",
              "0  0.098698  0.363787  ... -0.018307  0.277838 -0.110474  0.066928  0.128539   \n",
              "1  0.085102 -0.255425  ... -0.225775 -0.638672  0.101288 -0.339846  0.167170   \n",
              "2  0.247676 -1.514654  ...  0.247998  0.771679  0.909412 -0.689281 -0.327642   \n",
              "3  0.377436 -1.387024  ... -0.108300  0.005274 -0.190321 -1.175575  0.647376   \n",
              "4 -0.270533  0.817739  ... -0.009431  0.798278 -0.137458  0.141267 -0.206010   \n",
              "\n",
              "        V26       V27       V28  Amount  Class  \n",
              "0 -0.189115  0.133558 -0.021053  149.62      0  \n",
              "1  0.125895 -0.008983  0.014724    2.69      0  \n",
              "2 -0.139097 -0.055353 -0.059752  378.66      0  \n",
              "3 -0.221929  0.062723  0.061458  123.50      0  \n",
              "4  0.502292  0.219422  0.215153   69.99      0  \n",
              "\n",
              "[5 rows x 31 columns]"
            ],
            "text/html": [
              "\n",
              "  <div id=\"df-8c688631-2bd1-4d4b-83c3-56d11a21a25e\">\n",
              "    <div class=\"colab-df-container\">\n",
              "      <div>\n",
              "<style scoped>\n",
              "    .dataframe tbody tr th:only-of-type {\n",
              "        vertical-align: middle;\n",
              "    }\n",
              "\n",
              "    .dataframe tbody tr th {\n",
              "        vertical-align: top;\n",
              "    }\n",
              "\n",
              "    .dataframe thead th {\n",
              "        text-align: right;\n",
              "    }\n",
              "</style>\n",
              "<table border=\"1\" class=\"dataframe\">\n",
              "  <thead>\n",
              "    <tr style=\"text-align: right;\">\n",
              "      <th></th>\n",
              "      <th>Time</th>\n",
              "      <th>V1</th>\n",
              "      <th>V2</th>\n",
              "      <th>V3</th>\n",
              "      <th>V4</th>\n",
              "      <th>V5</th>\n",
              "      <th>V6</th>\n",
              "      <th>V7</th>\n",
              "      <th>V8</th>\n",
              "      <th>V9</th>\n",
              "      <th>...</th>\n",
              "      <th>V21</th>\n",
              "      <th>V22</th>\n",
              "      <th>V23</th>\n",
              "      <th>V24</th>\n",
              "      <th>V25</th>\n",
              "      <th>V26</th>\n",
              "      <th>V27</th>\n",
              "      <th>V28</th>\n",
              "      <th>Amount</th>\n",
              "      <th>Class</th>\n",
              "    </tr>\n",
              "  </thead>\n",
              "  <tbody>\n",
              "    <tr>\n",
              "      <th>0</th>\n",
              "      <td>0.0</td>\n",
              "      <td>-1.359807</td>\n",
              "      <td>-0.072781</td>\n",
              "      <td>2.536347</td>\n",
              "      <td>1.378155</td>\n",
              "      <td>-0.338321</td>\n",
              "      <td>0.462388</td>\n",
              "      <td>0.239599</td>\n",
              "      <td>0.098698</td>\n",
              "      <td>0.363787</td>\n",
              "      <td>...</td>\n",
              "      <td>-0.018307</td>\n",
              "      <td>0.277838</td>\n",
              "      <td>-0.110474</td>\n",
              "      <td>0.066928</td>\n",
              "      <td>0.128539</td>\n",
              "      <td>-0.189115</td>\n",
              "      <td>0.133558</td>\n",
              "      <td>-0.021053</td>\n",
              "      <td>149.62</td>\n",
              "      <td>0</td>\n",
              "    </tr>\n",
              "    <tr>\n",
              "      <th>1</th>\n",
              "      <td>0.0</td>\n",
              "      <td>1.191857</td>\n",
              "      <td>0.266151</td>\n",
              "      <td>0.166480</td>\n",
              "      <td>0.448154</td>\n",
              "      <td>0.060018</td>\n",
              "      <td>-0.082361</td>\n",
              "      <td>-0.078803</td>\n",
              "      <td>0.085102</td>\n",
              "      <td>-0.255425</td>\n",
              "      <td>...</td>\n",
              "      <td>-0.225775</td>\n",
              "      <td>-0.638672</td>\n",
              "      <td>0.101288</td>\n",
              "      <td>-0.339846</td>\n",
              "      <td>0.167170</td>\n",
              "      <td>0.125895</td>\n",
              "      <td>-0.008983</td>\n",
              "      <td>0.014724</td>\n",
              "      <td>2.69</td>\n",
              "      <td>0</td>\n",
              "    </tr>\n",
              "    <tr>\n",
              "      <th>2</th>\n",
              "      <td>1.0</td>\n",
              "      <td>-1.358354</td>\n",
              "      <td>-1.340163</td>\n",
              "      <td>1.773209</td>\n",
              "      <td>0.379780</td>\n",
              "      <td>-0.503198</td>\n",
              "      <td>1.800499</td>\n",
              "      <td>0.791461</td>\n",
              "      <td>0.247676</td>\n",
              "      <td>-1.514654</td>\n",
              "      <td>...</td>\n",
              "      <td>0.247998</td>\n",
              "      <td>0.771679</td>\n",
              "      <td>0.909412</td>\n",
              "      <td>-0.689281</td>\n",
              "      <td>-0.327642</td>\n",
              "      <td>-0.139097</td>\n",
              "      <td>-0.055353</td>\n",
              "      <td>-0.059752</td>\n",
              "      <td>378.66</td>\n",
              "      <td>0</td>\n",
              "    </tr>\n",
              "    <tr>\n",
              "      <th>3</th>\n",
              "      <td>1.0</td>\n",
              "      <td>-0.966272</td>\n",
              "      <td>-0.185226</td>\n",
              "      <td>1.792993</td>\n",
              "      <td>-0.863291</td>\n",
              "      <td>-0.010309</td>\n",
              "      <td>1.247203</td>\n",
              "      <td>0.237609</td>\n",
              "      <td>0.377436</td>\n",
              "      <td>-1.387024</td>\n",
              "      <td>...</td>\n",
              "      <td>-0.108300</td>\n",
              "      <td>0.005274</td>\n",
              "      <td>-0.190321</td>\n",
              "      <td>-1.175575</td>\n",
              "      <td>0.647376</td>\n",
              "      <td>-0.221929</td>\n",
              "      <td>0.062723</td>\n",
              "      <td>0.061458</td>\n",
              "      <td>123.50</td>\n",
              "      <td>0</td>\n",
              "    </tr>\n",
              "    <tr>\n",
              "      <th>4</th>\n",
              "      <td>2.0</td>\n",
              "      <td>-1.158233</td>\n",
              "      <td>0.877737</td>\n",
              "      <td>1.548718</td>\n",
              "      <td>0.403034</td>\n",
              "      <td>-0.407193</td>\n",
              "      <td>0.095921</td>\n",
              "      <td>0.592941</td>\n",
              "      <td>-0.270533</td>\n",
              "      <td>0.817739</td>\n",
              "      <td>...</td>\n",
              "      <td>-0.009431</td>\n",
              "      <td>0.798278</td>\n",
              "      <td>-0.137458</td>\n",
              "      <td>0.141267</td>\n",
              "      <td>-0.206010</td>\n",
              "      <td>0.502292</td>\n",
              "      <td>0.219422</td>\n",
              "      <td>0.215153</td>\n",
              "      <td>69.99</td>\n",
              "      <td>0</td>\n",
              "    </tr>\n",
              "  </tbody>\n",
              "</table>\n",
              "<p>5 rows × 31 columns</p>\n",
              "</div>\n",
              "      <button class=\"colab-df-convert\" onclick=\"convertToInteractive('df-8c688631-2bd1-4d4b-83c3-56d11a21a25e')\"\n",
              "              title=\"Convert this dataframe to an interactive table.\"\n",
              "              style=\"display:none;\">\n",
              "        \n",
              "  <svg xmlns=\"http://www.w3.org/2000/svg\" height=\"24px\"viewBox=\"0 0 24 24\"\n",
              "       width=\"24px\">\n",
              "    <path d=\"M0 0h24v24H0V0z\" fill=\"none\"/>\n",
              "    <path d=\"M18.56 5.44l.94 2.06.94-2.06 2.06-.94-2.06-.94-.94-2.06-.94 2.06-2.06.94zm-11 1L8.5 8.5l.94-2.06 2.06-.94-2.06-.94L8.5 2.5l-.94 2.06-2.06.94zm10 10l.94 2.06.94-2.06 2.06-.94-2.06-.94-.94-2.06-.94 2.06-2.06.94z\"/><path d=\"M17.41 7.96l-1.37-1.37c-.4-.4-.92-.59-1.43-.59-.52 0-1.04.2-1.43.59L10.3 9.45l-7.72 7.72c-.78.78-.78 2.05 0 2.83L4 21.41c.39.39.9.59 1.41.59.51 0 1.02-.2 1.41-.59l7.78-7.78 2.81-2.81c.8-.78.8-2.07 0-2.86zM5.41 20L4 18.59l7.72-7.72 1.47 1.35L5.41 20z\"/>\n",
              "  </svg>\n",
              "      </button>\n",
              "      \n",
              "  <style>\n",
              "    .colab-df-container {\n",
              "      display:flex;\n",
              "      flex-wrap:wrap;\n",
              "      gap: 12px;\n",
              "    }\n",
              "\n",
              "    .colab-df-convert {\n",
              "      background-color: #E8F0FE;\n",
              "      border: none;\n",
              "      border-radius: 50%;\n",
              "      cursor: pointer;\n",
              "      display: none;\n",
              "      fill: #1967D2;\n",
              "      height: 32px;\n",
              "      padding: 0 0 0 0;\n",
              "      width: 32px;\n",
              "    }\n",
              "\n",
              "    .colab-df-convert:hover {\n",
              "      background-color: #E2EBFA;\n",
              "      box-shadow: 0px 1px 2px rgba(60, 64, 67, 0.3), 0px 1px 3px 1px rgba(60, 64, 67, 0.15);\n",
              "      fill: #174EA6;\n",
              "    }\n",
              "\n",
              "    [theme=dark] .colab-df-convert {\n",
              "      background-color: #3B4455;\n",
              "      fill: #D2E3FC;\n",
              "    }\n",
              "\n",
              "    [theme=dark] .colab-df-convert:hover {\n",
              "      background-color: #434B5C;\n",
              "      box-shadow: 0px 1px 3px 1px rgba(0, 0, 0, 0.15);\n",
              "      filter: drop-shadow(0px 1px 2px rgba(0, 0, 0, 0.3));\n",
              "      fill: #FFFFFF;\n",
              "    }\n",
              "  </style>\n",
              "\n",
              "      <script>\n",
              "        const buttonEl =\n",
              "          document.querySelector('#df-8c688631-2bd1-4d4b-83c3-56d11a21a25e button.colab-df-convert');\n",
              "        buttonEl.style.display =\n",
              "          google.colab.kernel.accessAllowed ? 'block' : 'none';\n",
              "\n",
              "        async function convertToInteractive(key) {\n",
              "          const element = document.querySelector('#df-8c688631-2bd1-4d4b-83c3-56d11a21a25e');\n",
              "          const dataTable =\n",
              "            await google.colab.kernel.invokeFunction('convertToInteractive',\n",
              "                                                     [key], {});\n",
              "          if (!dataTable) return;\n",
              "\n",
              "          const docLinkHtml = 'Like what you see? Visit the ' +\n",
              "            '<a target=\"_blank\" href=https://colab.research.google.com/notebooks/data_table.ipynb>data table notebook</a>'\n",
              "            + ' to learn more about interactive tables.';\n",
              "          element.innerHTML = '';\n",
              "          dataTable['output_type'] = 'display_data';\n",
              "          await google.colab.output.renderOutput(dataTable, element);\n",
              "          const docLink = document.createElement('div');\n",
              "          docLink.innerHTML = docLinkHtml;\n",
              "          element.appendChild(docLink);\n",
              "        }\n",
              "      </script>\n",
              "    </div>\n",
              "  </div>\n",
              "  "
            ]
          },
          "metadata": {},
          "execution_count": 10
        }
      ]
    },
    {
      "cell_type": "markdown",
      "source": [
        "### Descriçao das caracteristicas do Dataset:\n",
        "- Time: Numero de segundos passados entre a transaçao em causa e a primeira transaçao do dataset.\n",
        "- V (1-28): Sao dados dados que foram alterados propositadamente para que informaçoes dos utilizadores fossem protegidas.\n",
        "- Amount: Quantidade de dinheiro transferido\n",
        "- Class: Verificaçao se a transaçao era ou nao fraude, 1= fraude e 0 para todos os outros casos."
      ],
      "metadata": {
        "id": "mYBFi3AbUoLC"
      }
    },
    {
      "cell_type": "code",
      "source": [
        "df.show(5)"
      ],
      "metadata": {
        "colab": {
          "base_uri": "https://localhost:8080/"
        },
        "id": "phZESy_9acjE",
        "outputId": "c82d0448-0e9e-4d9f-8086-9c402670c21f"
      },
      "execution_count": 11,
      "outputs": [
        {
          "output_type": "stream",
          "name": "stdout",
          "text": [
            "+----+------------------+-------------------+----------------+------------------+-------------------+-------------------+-------------------+------------------+------------------+-------------------+------------------+------------------+------------------+------------------+------------------+------------------+------------------+-------------------+------------------+-------------------+--------------------+-------------------+------------------+------------------+------------------+------------------+--------------------+-------------------+------+-----+\n",
            "|Time|                V1|                 V2|              V3|                V4|                 V5|                 V6|                 V7|                V8|                V9|                V10|               V11|               V12|               V13|               V14|               V15|               V16|               V17|                V18|               V19|                V20|                 V21|                V22|               V23|               V24|               V25|               V26|                 V27|                V28|Amount|Class|\n",
            "+----+------------------+-------------------+----------------+------------------+-------------------+-------------------+-------------------+------------------+------------------+-------------------+------------------+------------------+------------------+------------------+------------------+------------------+------------------+-------------------+------------------+-------------------+--------------------+-------------------+------------------+------------------+------------------+------------------+--------------------+-------------------+------+-----+\n",
            "| 0.0|  -1.3598071336738|-0.0727811733098497|2.53634673796914|  1.37815522427443| -0.338320769942518|  0.462387777762292|  0.239598554061257|0.0986979012610507| 0.363786969611213| 0.0907941719789316|-0.551599533260813|-0.617800855762348|-0.991389847235408|-0.311169353699879|  1.46817697209427|-0.470400525259478| 0.207971241929242| 0.0257905801985591| 0.403992960255733|  0.251412098239705|  -0.018306777944153|  0.277837575558899|-0.110473910188767|0.0669280749146731| 0.128539358273528|-0.189114843888824|   0.133558376740387|-0.0210530534538215|149.62|    0|\n",
            "| 0.0|  1.19185711131486|   0.26615071205963|0.16648011335321| 0.448154078460911| 0.0600176492822243|-0.0823608088155687|-0.0788029833323113|0.0851016549148104|-0.255425128109186| -0.166974414004614|  1.61272666105479|  1.06523531137287|  0.48909501589608|-0.143772296441519| 0.635558093258208| 0.463917041022171|-0.114804663102346| -0.183361270123994|-0.145783041325259|-0.0690831352230203|  -0.225775248033138| -0.638671952771851| 0.101288021253234|-0.339846475529127| 0.167170404418143| 0.125894532368176|-0.00898309914322813| 0.0147241691924927|  2.69|    0|\n",
            "| 1.0| -1.35835406159823|  -1.34016307473609|1.77320934263119| 0.379779593034328| -0.503198133318193|   1.80049938079263|  0.791460956450422| 0.247675786588991| -1.51465432260583|  0.207642865216696| 0.624501459424895| 0.066083685268831| 0.717292731410831|-0.165945922763554|  2.34586494901581| -2.89008319444231|  1.10996937869599| -0.121359313195888| -2.26185709530414|  0.524979725224404|   0.247998153469754|  0.771679401917229| 0.909412262347719|-0.689280956490685|-0.327641833735251|-0.139096571514147| -0.0553527940384261|-0.0597518405929204|378.66|    0|\n",
            "| 1.0|-0.966271711572087| -0.185226008082898|1.79299333957872|-0.863291275036453|-0.0103088796030823|   1.24720316752486|   0.23760893977178| 0.377435874652262| -1.38702406270197|-0.0549519224713749|-0.226487263835401| 0.178228225877303| 0.507756869957169| -0.28792374549456|-0.631418117709045|  -1.0596472454325|-0.684092786345479|   1.96577500349538|  -1.2326219700892| -0.208037781160366|  -0.108300452035545|0.00527359678253453|-0.190320518742841| -1.17557533186321| 0.647376034602038|-0.221928844458407|  0.0627228487293033| 0.0614576285006353| 123.5|    0|\n",
            "| 2.0| -1.15823309349523|  0.877736754848451|  1.548717846511| 0.403033933955121| -0.407193377311653| 0.0959214624684256|  0.592940745385545|-0.270532677192282| 0.817739308235294|  0.753074431976354|-0.822842877946363|  0.53819555014995|   1.3458515932154| -1.11966983471731| 0.175121130008994|-0.451449182813529|-0.237033239362776|-0.0381947870352842| 0.803486924960175|  0.408542360392758|-0.00943069713232919|   0.79827849458971|-0.137458079619063| 0.141266983824769|-0.206009587619756| 0.502292224181569|   0.219422229513348|  0.215153147499206| 69.99|    0|\n",
            "+----+------------------+-------------------+----------------+------------------+-------------------+-------------------+-------------------+------------------+------------------+-------------------+------------------+------------------+------------------+------------------+------------------+------------------+------------------+-------------------+------------------+-------------------+--------------------+-------------------+------------------+------------------+------------------+------------------+--------------------+-------------------+------+-----+\n",
            "only showing top 5 rows\n",
            "\n"
          ]
        }
      ]
    },
    {
      "cell_type": "code",
      "source": [
        "counts = df.groupBy(\"Class\").count()\n",
        "counts.show()"
      ],
      "metadata": {
        "colab": {
          "base_uri": "https://localhost:8080/"
        },
        "id": "ytrMWk1_agRc",
        "outputId": "49191d89-80c9-4f26-b680-050d6cffa6d8"
      },
      "execution_count": 12,
      "outputs": [
        {
          "output_type": "stream",
          "name": "stdout",
          "text": [
            "+-----+------+\n",
            "|Class| count|\n",
            "+-----+------+\n",
            "|    1|   492|\n",
            "|    0|284315|\n",
            "+-----+------+\n",
            "\n"
          ]
        }
      ]
    },
    {
      "cell_type": "code",
      "source": [
        "print(f\"Numero de Linhas: {df.count()}\")\n",
        "print(f\"Numero de Colunas:{len(df.columns)}\")\n",
        "print(\"Esquema do DataFrame:\")\n",
        "df.printSchema()"
      ],
      "metadata": {
        "colab": {
          "base_uri": "https://localhost:8080/"
        },
        "id": "XBnAtGNtah5j",
        "outputId": "b4f33f4d-0908-4be7-9c1a-622c437d5fe7"
      },
      "execution_count": 13,
      "outputs": [
        {
          "output_type": "stream",
          "name": "stdout",
          "text": [
            "Numero de Linhas: 284807\n",
            "Numero de Colunas:31\n",
            "Esquema do DataFrame:\n",
            "root\n",
            " |-- Time: double (nullable = true)\n",
            " |-- V1: double (nullable = true)\n",
            " |-- V2: double (nullable = true)\n",
            " |-- V3: double (nullable = true)\n",
            " |-- V4: double (nullable = true)\n",
            " |-- V5: double (nullable = true)\n",
            " |-- V6: double (nullable = true)\n",
            " |-- V7: double (nullable = true)\n",
            " |-- V8: double (nullable = true)\n",
            " |-- V9: double (nullable = true)\n",
            " |-- V10: double (nullable = true)\n",
            " |-- V11: double (nullable = true)\n",
            " |-- V12: double (nullable = true)\n",
            " |-- V13: double (nullable = true)\n",
            " |-- V14: double (nullable = true)\n",
            " |-- V15: double (nullable = true)\n",
            " |-- V16: double (nullable = true)\n",
            " |-- V17: double (nullable = true)\n",
            " |-- V18: double (nullable = true)\n",
            " |-- V19: double (nullable = true)\n",
            " |-- V20: double (nullable = true)\n",
            " |-- V21: double (nullable = true)\n",
            " |-- V22: double (nullable = true)\n",
            " |-- V23: double (nullable = true)\n",
            " |-- V24: double (nullable = true)\n",
            " |-- V25: double (nullable = true)\n",
            " |-- V26: double (nullable = true)\n",
            " |-- V27: double (nullable = true)\n",
            " |-- V28: double (nullable = true)\n",
            " |-- Amount: double (nullable = true)\n",
            " |-- Class: integer (nullable = true)\n",
            "\n"
          ]
        }
      ]
    },
    {
      "cell_type": "markdown",
      "source": [
        "- Aqui Conseguimos ver que o nosso dataset tem 284807 items e 31 caracteristicas, assim como podemos verificar que todas as caracteristicas podem aceitar valores nulos."
      ],
      "metadata": {
        "id": "90t_AcvDUoOA"
      }
    },
    {
      "cell_type": "markdown",
      "source": [
        "## Sumarizaçao dos Dados\n",
        "- Teem uma dimensao de 284807 entidades e 31 caracteristicas.\n",
        "- Teem uma grande amostra de casos de nao-fraude (492) e muito poucos de fraude (284315), o que pode levar a problemas na detecao de fraunde por nao ter amostra suficiente"
      ],
      "metadata": {
        "id": "jTM4VQuKUoQ2"
      }
    },
    {
      "cell_type": "markdown",
      "source": [
        "## Gráficos:"
      ],
      "metadata": {
        "id": "Uzj8Ya0MUoUp"
      }
    },
    {
      "cell_type": "markdown",
      "source": [
        "### graficos para todas as caracteristicas e a sua distribuiçao"
      ],
      "metadata": {
        "id": "w-QGi9oTatw1"
      }
    },
    {
      "cell_type": "code",
      "source": [
        "num_cols = [i for i in df.columns]\n",
        "df_num = df.select(num_cols)"
      ],
      "metadata": {
        "id": "KVlm7jsMaxLr"
      },
      "execution_count": 14,
      "outputs": []
    },
    {
      "cell_type": "code",
      "source": [
        "df_num.toPandas().hist(figsize=[15,15],bins=30, color='orange', histtype='bar', ec='black')\n"
      ],
      "metadata": {
        "colab": {
          "base_uri": "https://localhost:8080/",
          "height": 1000
        },
        "id": "zW6wpYXFa0Gk",
        "outputId": "304b5521-4634-4f88-b095-1b87f80fb49e"
      },
      "execution_count": 17,
      "outputs": [
        {
          "output_type": "execute_result",
          "data": {
            "text/plain": [
              "array([[<matplotlib.axes._subplots.AxesSubplot object at 0x7fdac3cf3ee0>,\n",
              "        <matplotlib.axes._subplots.AxesSubplot object at 0x7fdac57da670>,\n",
              "        <matplotlib.axes._subplots.AxesSubplot object at 0x7fdad2352fa0>,\n",
              "        <matplotlib.axes._subplots.AxesSubplot object at 0x7fdac2a85af0>,\n",
              "        <matplotlib.axes._subplots.AxesSubplot object at 0x7fdad22b9400>,\n",
              "        <matplotlib.axes._subplots.AxesSubplot object at 0x7fdad20cafd0>],\n",
              "       [<matplotlib.axes._subplots.AxesSubplot object at 0x7fdad20cad30>,\n",
              "        <matplotlib.axes._subplots.AxesSubplot object at 0x7fdad2067820>,\n",
              "        <matplotlib.axes._subplots.AxesSubplot object at 0x7fdab878ad00>,\n",
              "        <matplotlib.axes._subplots.AxesSubplot object at 0x7fdabeed1160>,\n",
              "        <matplotlib.axes._subplots.AxesSubplot object at 0x7fdabc7a0550>,\n",
              "        <matplotlib.axes._subplots.AxesSubplot object at 0x7fdabc76f940>],\n",
              "       [<matplotlib.axes._subplots.AxesSubplot object at 0x7fdab8a41d30>,\n",
              "        <matplotlib.axes._subplots.AxesSubplot object at 0x7fdabd248160>,\n",
              "        <matplotlib.axes._subplots.AxesSubplot object at 0x7fdac3699550>,\n",
              "        <matplotlib.axes._subplots.AxesSubplot object at 0x7fdac366a940>,\n",
              "        <matplotlib.axes._subplots.AxesSubplot object at 0x7fdacb27cd30>,\n",
              "        <matplotlib.axes._subplots.AxesSubplot object at 0x7fdabd100160>],\n",
              "       [<matplotlib.axes._subplots.AxesSubplot object at 0x7fdac40d5550>,\n",
              "        <matplotlib.axes._subplots.AxesSubplot object at 0x7fdac1663940>,\n",
              "        <matplotlib.axes._subplots.AxesSubplot object at 0x7fdac1633d30>,\n",
              "        <matplotlib.axes._subplots.AxesSubplot object at 0x7fdab8fb9160>,\n",
              "        <matplotlib.axes._subplots.AxesSubplot object at 0x7fdabc20a550>,\n",
              "        <matplotlib.axes._subplots.AxesSubplot object at 0x7fdabc55c940>],\n",
              "       [<matplotlib.axes._subplots.AxesSubplot object at 0x7fdabc52dd30>,\n",
              "        <matplotlib.axes._subplots.AxesSubplot object at 0x7fdabc9b2160>,\n",
              "        <matplotlib.axes._subplots.AxesSubplot object at 0x7fdac53c3550>,\n",
              "        <matplotlib.axes._subplots.AxesSubplot object at 0x7fdac7396940>,\n",
              "        <matplotlib.axes._subplots.AxesSubplot object at 0x7fdac7527d30>,\n",
              "        <matplotlib.axes._subplots.AxesSubplot object at 0x7fdac74ec160>],\n",
              "       [<matplotlib.axes._subplots.AxesSubplot object at 0x7fdac9d83a90>,\n",
              "        <matplotlib.axes._subplots.AxesSubplot object at 0x7fdacf58e130>,\n",
              "        <matplotlib.axes._subplots.AxesSubplot object at 0x7fdacf56da00>,\n",
              "        <matplotlib.axes._subplots.AxesSubplot object at 0x7fdacf6b2160>,\n",
              "        <matplotlib.axes._subplots.AxesSubplot object at 0x7fdabc04b880>,\n",
              "        <matplotlib.axes._subplots.AxesSubplot object at 0x7fdabc1dcfa0>]],\n",
              "      dtype=object)"
            ]
          },
          "metadata": {},
          "execution_count": 17
        },
        {
          "output_type": "display_data",
          "data": {
            "text/plain": [
              "<Figure size 1080x1080 with 36 Axes>"
            ],
            "image/png": "[encoded data removed]"
          },
          "metadata": {
            "needs_background": "light"
          }
        }
      ]
    },
    {
      "cell_type": "markdown",
      "source": [
        "#### Breve explicaçao dos graficos:\n",
        "- Estes histogramas estao a ser apresentados com o objetivo de mostrar a distribuiçao dos valores pelo count de um determinado valor.\n",
        "#### Breve analise dos graficos:\n",
        "- Time - Nao ha muito que se possa retirar deste histograma, apenas que tem valores significativos a correr ao longo de todo o percurso. Significa que nao houve um tempo relevante sem haver nenhuma transaçao\n",
        "- Vs - Nao conseguimos tirar informaçao relevante por nao se saber a natureza dos dados.\n",
        "- Amount - Conseguimos verificar que a grande maioria das transaçoes está concentrada em valores de até 5000\n",
        "- Class - Conseguimos verificar que existe uma concentraçao muito maior no valor 0, correspondente a \"Nao é fraude\". Isto é bom no entanto por haver uma grande disparidade na quantidade de dados entre valores positivos e negativos poderá levar a problemas na nossa previsao de resultados com machine learning."
      ],
      "metadata": {
        "id": "C-tvT5zaatu_"
      }
    },
    {
      "cell_type": "markdown",
      "source": [
        "## Tratamento dos dados"
      ],
      "metadata": {
        "id": "g4WDlpWnatso"
      }
    },
    {
      "cell_type": "markdown",
      "source": [
        "#### Vamos começar por verificar a existencia de valores nulos."
      ],
      "metadata": {
        "id": "ROZg0eBHatqZ"
      }
    },
    {
      "cell_type": "code",
      "source": [
        "null_values = []\n",
        "for col in df.columns:\n",
        "    null_values.append((col, df.filter(df[col].isNull()).count()))"
      ],
      "metadata": {
        "id": "W7NDGta6bl7g"
      },
      "execution_count": 18,
      "outputs": []
    },
    {
      "cell_type": "code",
      "source": [
        "col_count = 0\n",
        "null_col_count = 0\n",
        "for col, value in null_values:\n",
        "    col_count = col_count + 1\n",
        "    if value == 0:\n",
        "        null_col_count = null_col_count + 1\n",
        "    else:\n",
        "        print(f\"{col} : {value} missing values\")\n",
        "if col_count == null_col_count:\n",
        "    print(\"Nao ha valores nulos\")"
      ],
      "metadata": {
        "id": "jgU9GvKObnrH"
      },
      "execution_count": null,
      "outputs": []
    },
    {
      "cell_type": "markdown",
      "source": [
        "### Tranformaçao de dados"
      ],
      "metadata": {
        "id": "8wVfFnfFatoM"
      }
    },
    {
      "cell_type": "markdown",
      "source": [
        "- Aqui vamos pegar em todas as caracteristicas dos dados exceto a variavel target e criar um objeto vetor para o item. Vamos fazer isto para obter um resultado de: \n",
        "- [Caracteristica 1 | C2 | C3 | C4 | ... | Class] para:\n",
        "- [C1 | Class]"
      ],
      "metadata": {
        "id": "s9YYFzcJatl7"
      }
    },
    {
      "cell_type": "code",
      "source": [
        "cols = df.columns\n",
        "cols.remove('Class')"
      ],
      "metadata": {
        "id": "ik_Ao0WxbtdN"
      },
      "execution_count": 20,
      "outputs": []
    },
    {
      "cell_type": "markdown",
      "source": [
        "Primeiro adicionamos todas as colunas a uma variavel e removemos apenas a ultima coluna."
      ],
      "metadata": {
        "id": "gGHeqhFlatjr"
      }
    },
    {
      "cell_type": "code",
      "source": [
        "assembler = VectorAssembler(inputCols= cols, outputCol= 'features')"
      ],
      "metadata": {
        "id": "Xw4lPtVgbxNT"
      },
      "execution_count": 21,
      "outputs": []
    },
    {
      "cell_type": "markdown",
      "source": [
        "Em seguida fomos \"colar\" as caracteristicas dentro desta nova variavel e dar o nome ao conjunto de \"features\""
      ],
      "metadata": {
        "id": "Zzy2dJM0athZ"
      }
    },
    {
      "cell_type": "code",
      "source": [
        "df = assembler.transform(df)"
      ],
      "metadata": {
        "id": "F-2P5CmQb2Sh"
      },
      "execution_count": 22,
      "outputs": []
    },
    {
      "cell_type": "markdown",
      "source": [
        "Agora vamos visualizar os dados depois de serem tratados, e vamos poder observar que de 30 passamos a ter apenas 2 colunas e vamos usar a coluna das features para prever a da class, uma vez que a features nao e nada mais nada menos que todas as outras 29 caracteristicas juntas."
      ],
      "metadata": {
        "id": "dw6Zr6W8atfK"
      }
    },
    {
      "cell_type": "code",
      "source": [
        "df = df.select(['features', 'Class'])\n",
        "df.show(5)"
      ],
      "metadata": {
        "colab": {
          "base_uri": "https://localhost:8080/"
        },
        "id": "jVSCq02yb6yi",
        "outputId": "74877b13-513d-4f6d-8dcd-638c94ffe86c"
      },
      "execution_count": 23,
      "outputs": [
        {
          "output_type": "stream",
          "name": "stdout",
          "text": [
            "+--------------------+-----+\n",
            "|            features|Class|\n",
            "+--------------------+-----+\n",
            "|[0.0,-1.359807133...|    0|\n",
            "|[0.0,1.1918571113...|    0|\n",
            "|[1.0,-1.358354061...|    0|\n",
            "|[1.0,-0.966271711...|    0|\n",
            "|[2.0,-1.158233093...|    0|\n",
            "+--------------------+-----+\n",
            "only showing top 5 rows\n",
            "\n"
          ]
        }
      ]
    },
    {
      "cell_type": "markdown",
      "source": [
        "## Aplicar Modelos de Machine Learning\n",
        "Neste trabalho vao ser usados 2 modelos de machine learning, a Regressao logistica e o random forest. Estes modelos foram escolhidos por serem bons candidatos a tratar de classificacao binaria, que era o caso do nosso dataset."
      ],
      "metadata": {
        "id": "Vm0sRz0tatdF"
      }
    },
    {
      "cell_type": "markdown",
      "source": [
        "### Defenir Test/Split\n",
        "Neste caso vamos fazer o split a 70% dos dados para treino e os restantes 30% para teste"
      ],
      "metadata": {
        "id": "ypKAgTh8atbH"
      }
    },
    {
      "cell_type": "code",
      "source": [
        "training, testing= df.randomSplit([0.7, 0.3])"
      ],
      "metadata": {
        "id": "NaqtEmP-atCU"
      },
      "execution_count": 24,
      "outputs": []
    },
    {
      "cell_type": "markdown",
      "source": [
        "### Modelo - Regressao Logistica"
      ],
      "metadata": {
        "id": "B1tZ2JCwcDZZ"
      }
    },
    {
      "cell_type": "markdown",
      "source": [
        "#### treino e teste do modelo"
      ],
      "metadata": {
        "id": "Ej6_RpGMcDXD"
      }
    },
    {
      "cell_type": "code",
      "source": [
        "lr = LogisticRegression(labelCol='Class', featuresCol='features')\n",
        "model= lr.fit(training) # fit dos dados de treino\n",
        "predictions = model.transform(testing) # teste do modelo com os dados de teste"
      ],
      "metadata": {
        "id": "vOyQFZoicHOy"
      },
      "execution_count": 25,
      "outputs": []
    },
    {
      "cell_type": "markdown",
      "source": [
        "#### Verificar resultados do teste"
      ],
      "metadata": {
        "id": "rTxupjBJcDUR"
      }
    },
    {
      "cell_type": "code",
      "source": [
        "evaluator = BinaryClassificationEvaluator(labelCol='Class', rawPredictionCol='rawPrediction')\n",
        "accuracy = evaluator.evaluate(predictions)\n",
        "accuracy"
      ],
      "metadata": {
        "colab": {
          "base_uri": "https://localhost:8080/"
        },
        "id": "96b_KCFjcK5o",
        "outputId": "ef8fa095-9dd4-415b-a3c6-7f9b9f1d816e"
      },
      "execution_count": 26,
      "outputs": [
        {
          "output_type": "execute_result",
          "data": {
            "text/plain": [
              "0.9799958174337905"
            ]
          },
          "metadata": {},
          "execution_count": 26
        }
      ]
    },
    {
      "cell_type": "markdown",
      "source": [
        "Com isto temos um modelo de previsao a usar regressao logistica em que obtivemos uma precisao de aproximadamente 98%"
      ],
      "metadata": {
        "id": "lRfSu409cDRv"
      }
    },
    {
      "cell_type": "markdown",
      "source": [
        "#### tabela com a previsao"
      ],
      "metadata": {
        "id": "rVP8zJkycSL3"
      }
    },
    {
      "cell_type": "code",
      "source": [
        "predictions.toPandas()"
      ],
      "metadata": {
        "colab": {
          "base_uri": "https://localhost:8080/",
          "height": 424
        },
        "id": "stzUSXjGcQ0H",
        "outputId": "71704dba-ebe6-49ce-d3db-a63b186c433a"
      },
      "execution_count": 27,
      "outputs": [
        {
          "output_type": "execute_result",
          "data": {
            "text/plain": [
              "                                                features  Class  \\\n",
              "0      [1.0, -1.35835406159823, -1.34016307473609, 1....      0   \n",
              "1      [10.0, 1.249998742053, -1.22163680921816, 0.38...      0   \n",
              "2      [12.0, -0.752417042956605, 0.345485415344747, ...      0   \n",
              "3      [15.0, 1.4929359769862, -1.02934573189487, 0.4...      0   \n",
              "4      [18.0, 0.247491127783665, 0.277665627353681, 1...      0   \n",
              "...                                                  ...    ...   \n",
              "85269  [172777.0, -1.26658018751073, -0.4004612550902...      0   \n",
              "85270  [172785.0, 0.120316379951799, 0.93100513345655...      0   \n",
              "85271  [172786.0, -11.8811178854323, 10.0717849710003...      0   \n",
              "85272  [172788.0, -0.240440049680947, 0.5304825131188...      0   \n",
              "85273  [172792.0, -0.53341252200504, -0.1897333370023...      0   \n",
              "\n",
              "                                   rawPrediction  \\\n",
              "0        [7.264101203439944, -7.264101203439944]   \n",
              "1        [9.526695680099534, -9.526695680099534]   \n",
              "2          [9.07650178613821, -9.07650178613821]   \n",
              "3        [9.612597467750101, -9.612597467750101]   \n",
              "4        [6.534195109377805, -6.534195109377805]   \n",
              "...                                          ...   \n",
              "85269    [9.025225480789098, -9.025225480789098]   \n",
              "85270    [9.418267813240337, -9.418267813240337]   \n",
              "85271  [22.087943506216128, -22.087943506216128]   \n",
              "85272    [7.565795823894952, -7.565795823894952]   \n",
              "85273    [8.297853681638706, -8.297853681638706]   \n",
              "\n",
              "                                        probability  prediction  \n",
              "0       [0.9993002596279171, 0.0006997403720828688]         0.0  \n",
              "1       [0.9999271252655704, 7.287473442962877e-05]         0.0  \n",
              "2      [0.9998856922402831, 0.00011430775971688067]         0.0  \n",
              "3        [0.9999331235951852, 6.68764048148418e-05]         0.0  \n",
              "4       [0.9985492098688424, 0.0014507901311575644]         0.0  \n",
              "...                                             ...         ...  \n",
              "85269  [0.9998796788102043, 0.00012032118979565798]         0.0  \n",
              "85270   [0.9999187800000676, 8.121999993238038e-05]         0.0  \n",
              "85271    [0.999999999744537, 2.554629841000633e-10]         0.0  \n",
              "85272   [0.9994824029710909, 0.0005175970289090781]         0.0  \n",
              "85273   [0.9997510112146893, 0.0002489887853106554]         0.0  \n",
              "\n",
              "[85274 rows x 5 columns]"
            ],
            "text/html": [
              "\n",
              "  <div id=\"df-5540157f-ba00-4211-a6d8-892217fbab9a\">\n",
              "    <div class=\"colab-df-container\">\n",
              "      <div>\n",
              "<style scoped>\n",
              "    .dataframe tbody tr th:only-of-type {\n",
              "        vertical-align: middle;\n",
              "    }\n",
              "\n",
              "    .dataframe tbody tr th {\n",
              "        vertical-align: top;\n",
              "    }\n",
              "\n",
              "    .dataframe thead th {\n",
              "        text-align: right;\n",
              "    }\n",
              "</style>\n",
              "<table border=\"1\" class=\"dataframe\">\n",
              "  <thead>\n",
              "    <tr style=\"text-align: right;\">\n",
              "      <th></th>\n",
              "      <th>features</th>\n",
              "      <th>Class</th>\n",
              "      <th>rawPrediction</th>\n",
              "      <th>probability</th>\n",
              "      <th>prediction</th>\n",
              "    </tr>\n",
              "  </thead>\n",
              "  <tbody>\n",
              "    <tr>\n",
              "      <th>0</th>\n",
              "      <td>[1.0, -1.35835406159823, -1.34016307473609, 1....</td>\n",
              "      <td>0</td>\n",
              "      <td>[7.264101203439944, -7.264101203439944]</td>\n",
              "      <td>[0.9993002596279171, 0.0006997403720828688]</td>\n",
              "      <td>0.0</td>\n",
              "    </tr>\n",
              "    <tr>\n",
              "      <th>1</th>\n",
              "      <td>[10.0, 1.249998742053, -1.22163680921816, 0.38...</td>\n",
              "      <td>0</td>\n",
              "      <td>[9.526695680099534, -9.526695680099534]</td>\n",
              "      <td>[0.9999271252655704, 7.287473442962877e-05]</td>\n",
              "      <td>0.0</td>\n",
              "    </tr>\n",
              "    <tr>\n",
              "      <th>2</th>\n",
              "      <td>[12.0, -0.752417042956605, 0.345485415344747, ...</td>\n",
              "      <td>0</td>\n",
              "      <td>[9.07650178613821, -9.07650178613821]</td>\n",
              "      <td>[0.9998856922402831, 0.00011430775971688067]</td>\n",
              "      <td>0.0</td>\n",
              "    </tr>\n",
              "    <tr>\n",
              "      <th>3</th>\n",
              "      <td>[15.0, 1.4929359769862, -1.02934573189487, 0.4...</td>\n",
              "      <td>0</td>\n",
              "      <td>[9.612597467750101, -9.612597467750101]</td>\n",
              "      <td>[0.9999331235951852, 6.68764048148418e-05]</td>\n",
              "      <td>0.0</td>\n",
              "    </tr>\n",
              "    <tr>\n",
              "      <th>4</th>\n",
              "      <td>[18.0, 0.247491127783665, 0.277665627353681, 1...</td>\n",
              "      <td>0</td>\n",
              "      <td>[6.534195109377805, -6.534195109377805]</td>\n",
              "      <td>[0.9985492098688424, 0.0014507901311575644]</td>\n",
              "      <td>0.0</td>\n",
              "    </tr>\n",
              "    <tr>\n",
              "      <th>...</th>\n",
              "      <td>...</td>\n",
              "      <td>...</td>\n",
              "      <td>...</td>\n",
              "      <td>...</td>\n",
              "      <td>...</td>\n",
              "    </tr>\n",
              "    <tr>\n",
              "      <th>85269</th>\n",
              "      <td>[172777.0, -1.26658018751073, -0.4004612550902...</td>\n",
              "      <td>0</td>\n",
              "      <td>[9.025225480789098, -9.025225480789098]</td>\n",
              "      <td>[0.9998796788102043, 0.00012032118979565798]</td>\n",
              "      <td>0.0</td>\n",
              "    </tr>\n",
              "    <tr>\n",
              "      <th>85270</th>\n",
              "      <td>[172785.0, 0.120316379951799, 0.93100513345655...</td>\n",
              "      <td>0</td>\n",
              "      <td>[9.418267813240337, -9.418267813240337]</td>\n",
              "      <td>[0.9999187800000676, 8.121999993238038e-05]</td>\n",
              "      <td>0.0</td>\n",
              "    </tr>\n",
              "    <tr>\n",
              "      <th>85271</th>\n",
              "      <td>[172786.0, -11.8811178854323, 10.0717849710003...</td>\n",
              "      <td>0</td>\n",
              "      <td>[22.087943506216128, -22.087943506216128]</td>\n",
              "      <td>[0.999999999744537, 2.554629841000633e-10]</td>\n",
              "      <td>0.0</td>\n",
              "    </tr>\n",
              "    <tr>\n",
              "      <th>85272</th>\n",
              "      <td>[172788.0, -0.240440049680947, 0.5304825131188...</td>\n",
              "      <td>0</td>\n",
              "      <td>[7.565795823894952, -7.565795823894952]</td>\n",
              "      <td>[0.9994824029710909, 0.0005175970289090781]</td>\n",
              "      <td>0.0</td>\n",
              "    </tr>\n",
              "    <tr>\n",
              "      <th>85273</th>\n",
              "      <td>[172792.0, -0.53341252200504, -0.1897333370023...</td>\n",
              "      <td>0</td>\n",
              "      <td>[8.297853681638706, -8.297853681638706]</td>\n",
              "      <td>[0.9997510112146893, 0.0002489887853106554]</td>\n",
              "      <td>0.0</td>\n",
              "    </tr>\n",
              "  </tbody>\n",
              "</table>\n",
              "<p>85274 rows × 5 columns</p>\n",
              "</div>\n",
              "      <button class=\"colab-df-convert\" onclick=\"convertToInteractive('df-5540157f-ba00-4211-a6d8-892217fbab9a')\"\n",
              "              title=\"Convert this dataframe to an interactive table.\"\n",
              "              style=\"display:none;\">\n",
              "        \n",
              "  <svg xmlns=\"http://www.w3.org/2000/svg\" height=\"24px\"viewBox=\"0 0 24 24\"\n",
              "       width=\"24px\">\n",
              "    <path d=\"M0 0h24v24H0V0z\" fill=\"none\"/>\n",
              "    <path d=\"M18.56 5.44l.94 2.06.94-2.06 2.06-.94-2.06-.94-.94-2.06-.94 2.06-2.06.94zm-11 1L8.5 8.5l.94-2.06 2.06-.94-2.06-.94L8.5 2.5l-.94 2.06-2.06.94zm10 10l.94 2.06.94-2.06 2.06-.94-2.06-.94-.94-2.06-.94 2.06-2.06.94z\"/><path d=\"M17.41 7.96l-1.37-1.37c-.4-.4-.92-.59-1.43-.59-.52 0-1.04.2-1.43.59L10.3 9.45l-7.72 7.72c-.78.78-.78 2.05 0 2.83L4 21.41c.39.39.9.59 1.41.59.51 0 1.02-.2 1.41-.59l7.78-7.78 2.81-2.81c.8-.78.8-2.07 0-2.86zM5.41 20L4 18.59l7.72-7.72 1.47 1.35L5.41 20z\"/>\n",
              "  </svg>\n",
              "      </button>\n",
              "      \n",
              "  <style>\n",
              "    .colab-df-container {\n",
              "      display:flex;\n",
              "      flex-wrap:wrap;\n",
              "      gap: 12px;\n",
              "    }\n",
              "\n",
              "    .colab-df-convert {\n",
              "      background-color: #E8F0FE;\n",
              "      border: none;\n",
              "      border-radius: 50%;\n",
              "      cursor: pointer;\n",
              "      display: none;\n",
              "      fill: #1967D2;\n",
              "      height: 32px;\n",
              "      padding: 0 0 0 0;\n",
              "      width: 32px;\n",
              "    }\n",
              "\n",
              "    .colab-df-convert:hover {\n",
              "      background-color: #E2EBFA;\n",
              "      box-shadow: 0px 1px 2px rgba(60, 64, 67, 0.3), 0px 1px 3px 1px rgba(60, 64, 67, 0.15);\n",
              "      fill: #174EA6;\n",
              "    }\n",
              "\n",
              "    [theme=dark] .colab-df-convert {\n",
              "      background-color: #3B4455;\n",
              "      fill: #D2E3FC;\n",
              "    }\n",
              "\n",
              "    [theme=dark] .colab-df-convert:hover {\n",
              "      background-color: #434B5C;\n",
              "      box-shadow: 0px 1px 3px 1px rgba(0, 0, 0, 0.15);\n",
              "      filter: drop-shadow(0px 1px 2px rgba(0, 0, 0, 0.3));\n",
              "      fill: #FFFFFF;\n",
              "    }\n",
              "  </style>\n",
              "\n",
              "      <script>\n",
              "        const buttonEl =\n",
              "          document.querySelector('#df-5540157f-ba00-4211-a6d8-892217fbab9a button.colab-df-convert');\n",
              "        buttonEl.style.display =\n",
              "          google.colab.kernel.accessAllowed ? 'block' : 'none';\n",
              "\n",
              "        async function convertToInteractive(key) {\n",
              "          const element = document.querySelector('#df-5540157f-ba00-4211-a6d8-892217fbab9a');\n",
              "          const dataTable =\n",
              "            await google.colab.kernel.invokeFunction('convertToInteractive',\n",
              "                                                     [key], {});\n",
              "          if (!dataTable) return;\n",
              "\n",
              "          const docLinkHtml = 'Like what you see? Visit the ' +\n",
              "            '<a target=\"_blank\" href=https://colab.research.google.com/notebooks/data_table.ipynb>data table notebook</a>'\n",
              "            + ' to learn more about interactive tables.';\n",
              "          element.innerHTML = '';\n",
              "          dataTable['output_type'] = 'display_data';\n",
              "          await google.colab.output.renderOutput(dataTable, element);\n",
              "          const docLink = document.createElement('div');\n",
              "          docLink.innerHTML = docLinkHtml;\n",
              "          element.appendChild(docLink);\n",
              "        }\n",
              "      </script>\n",
              "    </div>\n",
              "  </div>\n",
              "  "
            ]
          },
          "metadata": {},
          "execution_count": 27
        }
      ]
    },
    {
      "cell_type": "markdown",
      "source": [
        "### Modelo - Random forest"
      ],
      "metadata": {
        "id": "Iq0ffuL0cDO8"
      }
    },
    {
      "cell_type": "markdown",
      "source": [
        "#### treino e teste do modelo\n",
        "Neste caso, estamos a fazer um modelo com uma profuncidade maxima de 5 para evitar overfitting."
      ],
      "metadata": {
        "id": "I2o9LGHrcDML"
      }
    },
    {
      "cell_type": "code",
      "source": [
        "rf = RandomForestClassifier(labelCol=\"Class\", featuresCol=\"features\", maxDepth= 5)\n",
        "model = rf.fit(training)\n",
        "predictions = model.transform(testing) # teste do modelo com os dados de teste"
      ],
      "metadata": {
        "id": "eEW8EV1HcZyA"
      },
      "execution_count": 28,
      "outputs": []
    },
    {
      "cell_type": "markdown",
      "source": [
        "#### verificar resultados do teste"
      ],
      "metadata": {
        "id": "U0_tNNkncDKA"
      }
    },
    {
      "cell_type": "code",
      "source": [
        "evaluator = BinaryClassificationEvaluator(labelCol='Class', rawPredictionCol='rawPrediction')\n",
        "accuracy = evaluator.evaluate(predictions)\n",
        "accuracy"
      ],
      "metadata": {
        "colab": {
          "base_uri": "https://localhost:8080/"
        },
        "id": "JdW8VCaRatEp",
        "outputId": "320f792d-88b8-4118-a6b8-eae5cc3adbad"
      },
      "execution_count": 29,
      "outputs": [
        {
          "output_type": "execute_result",
          "data": {
            "text/plain": [
              "0.9694445409084596"
            ]
          },
          "metadata": {},
          "execution_count": 29
        }
      ]
    },
    {
      "cell_type": "markdown",
      "source": [
        "Com isto temos um modelo de previsao a usar o Random Forest em que obtivemos uma precisao de aproximadamente 96%"
      ],
      "metadata": {
        "id": "ZLvPPVeBcd7n"
      }
    },
    {
      "cell_type": "markdown",
      "source": [
        "#### tabela com a previsao"
      ],
      "metadata": {
        "id": "dU77KlWJcf4g"
      }
    },
    {
      "cell_type": "code",
      "source": [
        "predictions.toPandas()"
      ],
      "metadata": {
        "colab": {
          "base_uri": "https://localhost:8080/",
          "height": 424
        },
        "id": "PYzZ8AZYcjzZ",
        "outputId": "ea46545c-fe1d-48f3-a0a8-7e221d863b21"
      },
      "execution_count": 30,
      "outputs": [
        {
          "output_type": "execute_result",
          "data": {
            "text/plain": [
              "                                                features  Class  \\\n",
              "0      [1.0, -1.35835406159823, -1.34016307473609, 1....      0   \n",
              "1      [10.0, 1.249998742053, -1.22163680921816, 0.38...      0   \n",
              "2      [12.0, -0.752417042956605, 0.345485415344747, ...      0   \n",
              "3      [15.0, 1.4929359769862, -1.02934573189487, 0.4...      0   \n",
              "4      [18.0, 0.247491127783665, 0.277665627353681, 1...      0   \n",
              "...                                                  ...    ...   \n",
              "85269  [172777.0, -1.26658018751073, -0.4004612550902...      0   \n",
              "85270  [172785.0, 0.120316379951799, 0.93100513345655...      0   \n",
              "85271  [172786.0, -11.8811178854323, 10.0717849710003...      0   \n",
              "85272  [172788.0, -0.240440049680947, 0.5304825131188...      0   \n",
              "85273  [172792.0, -0.53341252200504, -0.1897333370023...      0   \n",
              "\n",
              "                                    rawPrediction  \\\n",
              "0         [19.99165997143452, 0.0083400285654825]   \n",
              "1      [19.993914866764996, 0.006085133235003325]   \n",
              "2      [19.993914866764996, 0.006085133235003325]   \n",
              "3      [19.993914866764996, 0.006085133235003325]   \n",
              "4      [19.988459752871698, 0.011540247128301647]   \n",
              "...                                           ...   \n",
              "85269     [19.992116806301, 0.007883193698998897]   \n",
              "85270  [19.993914866764996, 0.006085133235003325]   \n",
              "85271   [19.98238526799699, 0.017614732003010485]   \n",
              "85272  [19.993914866764996, 0.006085133235003325]   \n",
              "85273   [19.99005039478576, 0.009949605214236268]   \n",
              "\n",
              "                                        probability  prediction  \n",
              "0         [0.999582998571726, 0.000417001428274125]         0.0  \n",
              "1      [0.9996957433382498, 0.00030425666175016626]         0.0  \n",
              "2      [0.9996957433382498, 0.00030425666175016626]         0.0  \n",
              "3      [0.9996957433382498, 0.00030425666175016626]         0.0  \n",
              "4        [0.999422987643585, 0.0005770123564150824]         0.0  \n",
              "...                                             ...         ...  \n",
              "85269   [0.9996058403150501, 0.0003941596849499449]         0.0  \n",
              "85270  [0.9996957433382498, 0.00030425666175016626]         0.0  \n",
              "85271   [0.9991192633998495, 0.0008807366001505242]         0.0  \n",
              "85272  [0.9996957433382498, 0.00030425666175016626]         0.0  \n",
              "85273   [0.9995025197392883, 0.0004974802607118135]         0.0  \n",
              "\n",
              "[85274 rows x 5 columns]"
            ],
            "text/html": [
              "\n",
              "  <div id=\"df-dff80605-4480-4838-b5cb-21c4d594f6fe\">\n",
              "    <div class=\"colab-df-container\">\n",
              "      <div>\n",
              "<style scoped>\n",
              "    .dataframe tbody tr th:only-of-type {\n",
              "        vertical-align: middle;\n",
              "    }\n",
              "\n",
              "    .dataframe tbody tr th {\n",
              "        vertical-align: top;\n",
              "    }\n",
              "\n",
              "    .dataframe thead th {\n",
              "        text-align: right;\n",
              "    }\n",
              "</style>\n",
              "<table border=\"1\" class=\"dataframe\">\n",
              "  <thead>\n",
              "    <tr style=\"text-align: right;\">\n",
              "      <th></th>\n",
              "      <th>features</th>\n",
              "      <th>Class</th>\n",
              "      <th>rawPrediction</th>\n",
              "      <th>probability</th>\n",
              "      <th>prediction</th>\n",
              "    </tr>\n",
              "  </thead>\n",
              "  <tbody>\n",
              "    <tr>\n",
              "      <th>0</th>\n",
              "      <td>[1.0, -1.35835406159823, -1.34016307473609, 1....</td>\n",
              "      <td>0</td>\n",
              "      <td>[19.99165997143452, 0.0083400285654825]</td>\n",
              "      <td>[0.999582998571726, 0.000417001428274125]</td>\n",
              "      <td>0.0</td>\n",
              "    </tr>\n",
              "    <tr>\n",
              "      <th>1</th>\n",
              "      <td>[10.0, 1.249998742053, -1.22163680921816, 0.38...</td>\n",
              "      <td>0</td>\n",
              "      <td>[19.993914866764996, 0.006085133235003325]</td>\n",
              "      <td>[0.9996957433382498, 0.00030425666175016626]</td>\n",
              "      <td>0.0</td>\n",
              "    </tr>\n",
              "    <tr>\n",
              "      <th>2</th>\n",
              "      <td>[12.0, -0.752417042956605, 0.345485415344747, ...</td>\n",
              "      <td>0</td>\n",
              "      <td>[19.993914866764996, 0.006085133235003325]</td>\n",
              "      <td>[0.9996957433382498, 0.00030425666175016626]</td>\n",
              "      <td>0.0</td>\n",
              "    </tr>\n",
              "    <tr>\n",
              "      <th>3</th>\n",
              "      <td>[15.0, 1.4929359769862, -1.02934573189487, 0.4...</td>\n",
              "      <td>0</td>\n",
              "      <td>[19.993914866764996, 0.006085133235003325]</td>\n",
              "      <td>[0.9996957433382498, 0.00030425666175016626]</td>\n",
              "      <td>0.0</td>\n",
              "    </tr>\n",
              "    <tr>\n",
              "      <th>4</th>\n",
              "      <td>[18.0, 0.247491127783665, 0.277665627353681, 1...</td>\n",
              "      <td>0</td>\n",
              "      <td>[19.988459752871698, 0.011540247128301647]</td>\n",
              "      <td>[0.999422987643585, 0.0005770123564150824]</td>\n",
              "      <td>0.0</td>\n",
              "    </tr>\n",
              "    <tr>\n",
              "      <th>...</th>\n",
              "      <td>...</td>\n",
              "      <td>...</td>\n",
              "      <td>...</td>\n",
              "      <td>...</td>\n",
              "      <td>...</td>\n",
              "    </tr>\n",
              "    <tr>\n",
              "      <th>85269</th>\n",
              "      <td>[172777.0, -1.26658018751073, -0.4004612550902...</td>\n",
              "      <td>0</td>\n",
              "      <td>[19.992116806301, 0.007883193698998897]</td>\n",
              "      <td>[0.9996058403150501, 0.0003941596849499449]</td>\n",
              "      <td>0.0</td>\n",
              "    </tr>\n",
              "    <tr>\n",
              "      <th>85270</th>\n",
              "      <td>[172785.0, 0.120316379951799, 0.93100513345655...</td>\n",
              "      <td>0</td>\n",
              "      <td>[19.993914866764996, 0.006085133235003325]</td>\n",
              "      <td>[0.9996957433382498, 0.00030425666175016626]</td>\n",
              "      <td>0.0</td>\n",
              "    </tr>\n",
              "    <tr>\n",
              "      <th>85271</th>\n",
              "      <td>[172786.0, -11.8811178854323, 10.0717849710003...</td>\n",
              "      <td>0</td>\n",
              "      <td>[19.98238526799699, 0.017614732003010485]</td>\n",
              "      <td>[0.9991192633998495, 0.0008807366001505242]</td>\n",
              "      <td>0.0</td>\n",
              "    </tr>\n",
              "    <tr>\n",
              "      <th>85272</th>\n",
              "      <td>[172788.0, -0.240440049680947, 0.5304825131188...</td>\n",
              "      <td>0</td>\n",
              "      <td>[19.993914866764996, 0.006085133235003325]</td>\n",
              "      <td>[0.9996957433382498, 0.00030425666175016626]</td>\n",
              "      <td>0.0</td>\n",
              "    </tr>\n",
              "    <tr>\n",
              "      <th>85273</th>\n",
              "      <td>[172792.0, -0.53341252200504, -0.1897333370023...</td>\n",
              "      <td>0</td>\n",
              "      <td>[19.99005039478576, 0.009949605214236268]</td>\n",
              "      <td>[0.9995025197392883, 0.0004974802607118135]</td>\n",
              "      <td>0.0</td>\n",
              "    </tr>\n",
              "  </tbody>\n",
              "</table>\n",
              "<p>85274 rows × 5 columns</p>\n",
              "</div>\n",
              "      <button class=\"colab-df-convert\" onclick=\"convertToInteractive('df-dff80605-4480-4838-b5cb-21c4d594f6fe')\"\n",
              "              title=\"Convert this dataframe to an interactive table.\"\n",
              "              style=\"display:none;\">\n",
              "        \n",
              "  <svg xmlns=\"http://www.w3.org/2000/svg\" height=\"24px\"viewBox=\"0 0 24 24\"\n",
              "       width=\"24px\">\n",
              "    <path d=\"M0 0h24v24H0V0z\" fill=\"none\"/>\n",
              "    <path d=\"M18.56 5.44l.94 2.06.94-2.06 2.06-.94-2.06-.94-.94-2.06-.94 2.06-2.06.94zm-11 1L8.5 8.5l.94-2.06 2.06-.94-2.06-.94L8.5 2.5l-.94 2.06-2.06.94zm10 10l.94 2.06.94-2.06 2.06-.94-2.06-.94-.94-2.06-.94 2.06-2.06.94z\"/><path d=\"M17.41 7.96l-1.37-1.37c-.4-.4-.92-.59-1.43-.59-.52 0-1.04.2-1.43.59L10.3 9.45l-7.72 7.72c-.78.78-.78 2.05 0 2.83L4 21.41c.39.39.9.59 1.41.59.51 0 1.02-.2 1.41-.59l7.78-7.78 2.81-2.81c.8-.78.8-2.07 0-2.86zM5.41 20L4 18.59l7.72-7.72 1.47 1.35L5.41 20z\"/>\n",
              "  </svg>\n",
              "      </button>\n",
              "      \n",
              "  <style>\n",
              "    .colab-df-container {\n",
              "      display:flex;\n",
              "      flex-wrap:wrap;\n",
              "      gap: 12px;\n",
              "    }\n",
              "\n",
              "    .colab-df-convert {\n",
              "      background-color: #E8F0FE;\n",
              "      border: none;\n",
              "      border-radius: 50%;\n",
              "      cursor: pointer;\n",
              "      display: none;\n",
              "      fill: #1967D2;\n",
              "      height: 32px;\n",
              "      padding: 0 0 0 0;\n",
              "      width: 32px;\n",
              "    }\n",
              "\n",
              "    .colab-df-convert:hover {\n",
              "      background-color: #E2EBFA;\n",
              "      box-shadow: 0px 1px 2px rgba(60, 64, 67, 0.3), 0px 1px 3px 1px rgba(60, 64, 67, 0.15);\n",
              "      fill: #174EA6;\n",
              "    }\n",
              "\n",
              "    [theme=dark] .colab-df-convert {\n",
              "      background-color: #3B4455;\n",
              "      fill: #D2E3FC;\n",
              "    }\n",
              "\n",
              "    [theme=dark] .colab-df-convert:hover {\n",
              "      background-color: #434B5C;\n",
              "      box-shadow: 0px 1px 3px 1px rgba(0, 0, 0, 0.15);\n",
              "      filter: drop-shadow(0px 1px 2px rgba(0, 0, 0, 0.3));\n",
              "      fill: #FFFFFF;\n",
              "    }\n",
              "  </style>\n",
              "\n",
              "      <script>\n",
              "        const buttonEl =\n",
              "          document.querySelector('#df-dff80605-4480-4838-b5cb-21c4d594f6fe button.colab-df-convert');\n",
              "        buttonEl.style.display =\n",
              "          google.colab.kernel.accessAllowed ? 'block' : 'none';\n",
              "\n",
              "        async function convertToInteractive(key) {\n",
              "          const element = document.querySelector('#df-dff80605-4480-4838-b5cb-21c4d594f6fe');\n",
              "          const dataTable =\n",
              "            await google.colab.kernel.invokeFunction('convertToInteractive',\n",
              "                                                     [key], {});\n",
              "          if (!dataTable) return;\n",
              "\n",
              "          const docLinkHtml = 'Like what you see? Visit the ' +\n",
              "            '<a target=\"_blank\" href=https://colab.research.google.com/notebooks/data_table.ipynb>data table notebook</a>'\n",
              "            + ' to learn more about interactive tables.';\n",
              "          element.innerHTML = '';\n",
              "          dataTable['output_type'] = 'display_data';\n",
              "          await google.colab.output.renderOutput(dataTable, element);\n",
              "          const docLink = document.createElement('div');\n",
              "          docLink.innerHTML = docLinkHtml;\n",
              "          element.appendChild(docLink);\n",
              "        }\n",
              "      </script>\n",
              "    </div>\n",
              "  </div>\n",
              "  "
            ]
          },
          "metadata": {},
          "execution_count": 30
        }
      ]
    },
    {
      "cell_type": "markdown",
      "source": [
        "# Conclusao \n",
        "Neste trabalho foi utilizado o PySpark para carregar, processar e analisar um dataset. Em seguida foi utilizado o MLlib para treinar e avaliar modelos de machine learning. Como modelos foram usados a regressao logistica e o Random Forest. Ambos os modelos optiveram um desempenho que consideramos adequado na previsao de se havia fraude ou nao na transacao. Estamos satisfeitos com os resultados obtidos. Podendo até dizer que correu melhor que o esperado dada a disparidade entre os dados da variavel target."
      ],
      "metadata": {
        "id": "nozHfPgacgT7"
      }
    }
  ]
}