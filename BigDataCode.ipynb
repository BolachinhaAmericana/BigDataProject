{
 "cells": [
  {
   "attachments": {},
   "cell_type": "markdown",
   "metadata": {},
   "source": [
    "# Capa"
   ]
  },
  {
   "attachments": {},
   "cell_type": "markdown",
   "metadata": {},
   "source": [
    "ESTBArreiro - IPS\n",
    "Bioinformatica - Janeiro 2023\n",
    "Ano 3, semestre 1\n",
    "\n",
    "UC: Big Data\n",
    "\n",
    "Duarte Valente - 202000053\n",
    "Guilherme Sa   - 202000201\n",
    "\n",
    "Docentes: Raquel Barreira e António Gonçalves"
   ]
  },
  {
   "attachments": {},
   "cell_type": "markdown",
   "metadata": {},
   "source": [
    "# Projeto"
   ]
  },
  {
   "attachments": {},
   "cell_type": "markdown",
   "metadata": {},
   "source": [
    "## Instalar os packaged necessarios pelo terminal"
   ]
  },
  {
   "cell_type": "code",
   "execution_count": null,
   "metadata": {},
   "outputs": [],
   "source": [
    "%pip install pyspark"
   ]
  },
  {
   "cell_type": "code",
   "execution_count": 1,
   "metadata": {},
   "outputs": [],
   "source": [
    "# Spark Session imports\n",
    "from pyspark import SparkContext, SparkConf\n",
    "from pyspark.sql import SparkSession\n",
    "# Spark ML imports\n",
    "from pyspark.ml.feature import VectorAssembler\n",
    "from pyspark.ml.classification import LogisticRegression\n",
    "from pyspark.ml.evaluation import BinaryClassificationEvaluator\n",
    "from pyspark.ml.classification import RandomForestClassifier"
   ]
  },
  {
   "attachments": {},
   "cell_type": "markdown",
   "metadata": {},
   "source": [
    "## Criar Ambiente do Spark\n",
    "Aqui estamos a criar um ambiente de spark com o nome de CreditcardPrediction e com o computador master "
   ]
  },
  {
   "cell_type": "code",
   "execution_count": 3,
   "metadata": {},
   "outputs": [],
   "source": [
    "conf= SparkConf().setAppName('CreditCardPrediction').setMaster('local[*]')\n",
    "sc= SparkContext.getOrCreate(conf=conf)\n",
    "spark = SparkSession(sc)"
   ]
  },
  {
   "attachments": {},
   "cell_type": "markdown",
   "metadata": {},
   "source": [
    "## Importar os dados (creditcard.csv)"
   ]
  },
  {
   "attachments": {},
   "cell_type": "markdown",
   "metadata": {},
   "source": [
    "### Importar os dados pelo google drive"
   ]
  },
  {
   "cell_type": "code",
   "execution_count": null,
   "metadata": {},
   "outputs": [],
   "source": [
    "from google.colab import drive\n",
    "drive.mount('/content/drive')"
   ]
  },
  {
   "cell_type": "code",
   "execution_count": null,
   "metadata": {},
   "outputs": [],
   "source": [
    "df = spark.read.format(\"csv\").option(\"header\",\"true\")\\\n",
    ".option(\"inferSchema\",\"true\").load(\"../content/drive/MyDrive/Colab Notebooks/creditcard.csv\")"
   ]
  },
  {
   "attachments": {},
   "cell_type": "markdown",
   "metadata": {},
   "source": [
    "### Importar os dados por ficheiro"
   ]
  },
  {
   "cell_type": "code",
   "execution_count": 5,
   "metadata": {},
   "outputs": [],
   "source": [
    "df = spark.read.csv(\"creditcard.csv\", header=True, inferSchema=True)"
   ]
  },
  {
   "attachments": {},
   "cell_type": "markdown",
   "metadata": {},
   "source": [
    "## Visualisar dados\n",
    "Vamos simplesmente observar os dados, com o pandas, com o spark e ver a dimanesao e disparidade dos dados"
   ]
  },
  {
   "cell_type": "code",
   "execution_count": 6,
   "metadata": {},
   "outputs": [
    {
     "data": {
      "text/html": [
       "<div>\n",
       "<style scoped>\n",
       "    .dataframe tbody tr th:only-of-type {\n",
       "        vertical-align: middle;\n",
       "    }\n",
       "\n",
       "    .dataframe tbody tr th {\n",
       "        vertical-align: top;\n",
       "    }\n",
       "\n",
       "    .dataframe thead th {\n",
       "        text-align: right;\n",
       "    }\n",
       "</style>\n",
       "<table border=\"1\" class=\"dataframe\">\n",
       "  <thead>\n",
       "    <tr style=\"text-align: right;\">\n",
       "      <th></th>\n",
       "      <th>Time</th>\n",
       "      <th>V1</th>\n",
       "      <th>V2</th>\n",
       "      <th>V3</th>\n",
       "      <th>V4</th>\n",
       "      <th>V5</th>\n",
       "      <th>V6</th>\n",
       "      <th>V7</th>\n",
       "      <th>V8</th>\n",
       "      <th>V9</th>\n",
       "      <th>...</th>\n",
       "      <th>V21</th>\n",
       "      <th>V22</th>\n",
       "      <th>V23</th>\n",
       "      <th>V24</th>\n",
       "      <th>V25</th>\n",
       "      <th>V26</th>\n",
       "      <th>V27</th>\n",
       "      <th>V28</th>\n",
       "      <th>Amount</th>\n",
       "      <th>Class</th>\n",
       "    </tr>\n",
       "  </thead>\n",
       "  <tbody>\n",
       "    <tr>\n",
       "      <th>0</th>\n",
       "      <td>0.0</td>\n",
       "      <td>-1.359807</td>\n",
       "      <td>-0.072781</td>\n",
       "      <td>2.536347</td>\n",
       "      <td>1.378155</td>\n",
       "      <td>-0.338321</td>\n",
       "      <td>0.462388</td>\n",
       "      <td>0.239599</td>\n",
       "      <td>0.098698</td>\n",
       "      <td>0.363787</td>\n",
       "      <td>...</td>\n",
       "      <td>-0.018307</td>\n",
       "      <td>0.277838</td>\n",
       "      <td>-0.110474</td>\n",
       "      <td>0.066928</td>\n",
       "      <td>0.128539</td>\n",
       "      <td>-0.189115</td>\n",
       "      <td>0.133558</td>\n",
       "      <td>-0.021053</td>\n",
       "      <td>149.62</td>\n",
       "      <td>0</td>\n",
       "    </tr>\n",
       "    <tr>\n",
       "      <th>1</th>\n",
       "      <td>0.0</td>\n",
       "      <td>1.191857</td>\n",
       "      <td>0.266151</td>\n",
       "      <td>0.166480</td>\n",
       "      <td>0.448154</td>\n",
       "      <td>0.060018</td>\n",
       "      <td>-0.082361</td>\n",
       "      <td>-0.078803</td>\n",
       "      <td>0.085102</td>\n",
       "      <td>-0.255425</td>\n",
       "      <td>...</td>\n",
       "      <td>-0.225775</td>\n",
       "      <td>-0.638672</td>\n",
       "      <td>0.101288</td>\n",
       "      <td>-0.339846</td>\n",
       "      <td>0.167170</td>\n",
       "      <td>0.125895</td>\n",
       "      <td>-0.008983</td>\n",
       "      <td>0.014724</td>\n",
       "      <td>2.69</td>\n",
       "      <td>0</td>\n",
       "    </tr>\n",
       "    <tr>\n",
       "      <th>2</th>\n",
       "      <td>1.0</td>\n",
       "      <td>-1.358354</td>\n",
       "      <td>-1.340163</td>\n",
       "      <td>1.773209</td>\n",
       "      <td>0.379780</td>\n",
       "      <td>-0.503198</td>\n",
       "      <td>1.800499</td>\n",
       "      <td>0.791461</td>\n",
       "      <td>0.247676</td>\n",
       "      <td>-1.514654</td>\n",
       "      <td>...</td>\n",
       "      <td>0.247998</td>\n",
       "      <td>0.771679</td>\n",
       "      <td>0.909412</td>\n",
       "      <td>-0.689281</td>\n",
       "      <td>-0.327642</td>\n",
       "      <td>-0.139097</td>\n",
       "      <td>-0.055353</td>\n",
       "      <td>-0.059752</td>\n",
       "      <td>378.66</td>\n",
       "      <td>0</td>\n",
       "    </tr>\n",
       "    <tr>\n",
       "      <th>3</th>\n",
       "      <td>1.0</td>\n",
       "      <td>-0.966272</td>\n",
       "      <td>-0.185226</td>\n",
       "      <td>1.792993</td>\n",
       "      <td>-0.863291</td>\n",
       "      <td>-0.010309</td>\n",
       "      <td>1.247203</td>\n",
       "      <td>0.237609</td>\n",
       "      <td>0.377436</td>\n",
       "      <td>-1.387024</td>\n",
       "      <td>...</td>\n",
       "      <td>-0.108300</td>\n",
       "      <td>0.005274</td>\n",
       "      <td>-0.190321</td>\n",
       "      <td>-1.175575</td>\n",
       "      <td>0.647376</td>\n",
       "      <td>-0.221929</td>\n",
       "      <td>0.062723</td>\n",
       "      <td>0.061458</td>\n",
       "      <td>123.50</td>\n",
       "      <td>0</td>\n",
       "    </tr>\n",
       "    <tr>\n",
       "      <th>4</th>\n",
       "      <td>2.0</td>\n",
       "      <td>-1.158233</td>\n",
       "      <td>0.877737</td>\n",
       "      <td>1.548718</td>\n",
       "      <td>0.403034</td>\n",
       "      <td>-0.407193</td>\n",
       "      <td>0.095921</td>\n",
       "      <td>0.592941</td>\n",
       "      <td>-0.270533</td>\n",
       "      <td>0.817739</td>\n",
       "      <td>...</td>\n",
       "      <td>-0.009431</td>\n",
       "      <td>0.798278</td>\n",
       "      <td>-0.137458</td>\n",
       "      <td>0.141267</td>\n",
       "      <td>-0.206010</td>\n",
       "      <td>0.502292</td>\n",
       "      <td>0.219422</td>\n",
       "      <td>0.215153</td>\n",
       "      <td>69.99</td>\n",
       "      <td>0</td>\n",
       "    </tr>\n",
       "  </tbody>\n",
       "</table>\n",
       "<p>5 rows × 31 columns</p>\n",
       "</div>"
      ],
      "text/plain": [
       "   Time        V1        V2        V3        V4        V5        V6        V7  \\\n",
       "0   0.0 -1.359807 -0.072781  2.536347  1.378155 -0.338321  0.462388  0.239599   \n",
       "1   0.0  1.191857  0.266151  0.166480  0.448154  0.060018 -0.082361 -0.078803   \n",
       "2   1.0 -1.358354 -1.340163  1.773209  0.379780 -0.503198  1.800499  0.791461   \n",
       "3   1.0 -0.966272 -0.185226  1.792993 -0.863291 -0.010309  1.247203  0.237609   \n",
       "4   2.0 -1.158233  0.877737  1.548718  0.403034 -0.407193  0.095921  0.592941   \n",
       "\n",
       "         V8        V9  ...       V21       V22       V23       V24       V25  \\\n",
       "0  0.098698  0.363787  ... -0.018307  0.277838 -0.110474  0.066928  0.128539   \n",
       "1  0.085102 -0.255425  ... -0.225775 -0.638672  0.101288 -0.339846  0.167170   \n",
       "2  0.247676 -1.514654  ...  0.247998  0.771679  0.909412 -0.689281 -0.327642   \n",
       "3  0.377436 -1.387024  ... -0.108300  0.005274 -0.190321 -1.175575  0.647376   \n",
       "4 -0.270533  0.817739  ... -0.009431  0.798278 -0.137458  0.141267 -0.206010   \n",
       "\n",
       "        V26       V27       V28  Amount  Class  \n",
       "0 -0.189115  0.133558 -0.021053  149.62      0  \n",
       "1  0.125895 -0.008983  0.014724    2.69      0  \n",
       "2 -0.139097 -0.055353 -0.059752  378.66      0  \n",
       "3 -0.221929  0.062723  0.061458  123.50      0  \n",
       "4  0.502292  0.219422  0.215153   69.99      0  \n",
       "\n",
       "[5 rows x 31 columns]"
      ]
     },
     "execution_count": 6,
     "metadata": {},
     "output_type": "execute_result"
    }
   ],
   "source": [
    "df.toPandas().head()"
   ]
  },
  {
   "cell_type": "code",
   "execution_count": 7,
   "metadata": {},
   "outputs": [
    {
     "name": "stdout",
     "output_type": "stream",
     "text": [
      "+----+------------------+-------------------+----------------+------------------+-------------------+-------------------+-------------------+------------------+------------------+-------------------+------------------+------------------+------------------+------------------+------------------+------------------+------------------+-------------------+------------------+-------------------+--------------------+-------------------+------------------+------------------+------------------+------------------+--------------------+-------------------+------+-----+\n",
      "|Time|                V1|                 V2|              V3|                V4|                 V5|                 V6|                 V7|                V8|                V9|                V10|               V11|               V12|               V13|               V14|               V15|               V16|               V17|                V18|               V19|                V20|                 V21|                V22|               V23|               V24|               V25|               V26|                 V27|                V28|Amount|Class|\n",
      "+----+------------------+-------------------+----------------+------------------+-------------------+-------------------+-------------------+------------------+------------------+-------------------+------------------+------------------+------------------+------------------+------------------+------------------+------------------+-------------------+------------------+-------------------+--------------------+-------------------+------------------+------------------+------------------+------------------+--------------------+-------------------+------+-----+\n",
      "| 0.0|  -1.3598071336738|-0.0727811733098497|2.53634673796914|  1.37815522427443| -0.338320769942518|  0.462387777762292|  0.239598554061257|0.0986979012610507| 0.363786969611213| 0.0907941719789316|-0.551599533260813|-0.617800855762348|-0.991389847235408|-0.311169353699879|  1.46817697209427|-0.470400525259478| 0.207971241929242| 0.0257905801985591| 0.403992960255733|  0.251412098239705|  -0.018306777944153|  0.277837575558899|-0.110473910188767|0.0669280749146731| 0.128539358273528|-0.189114843888824|   0.133558376740387|-0.0210530534538215|149.62|    0|\n",
      "| 0.0|  1.19185711131486|   0.26615071205963|0.16648011335321| 0.448154078460911| 0.0600176492822243|-0.0823608088155687|-0.0788029833323113|0.0851016549148104|-0.255425128109186| -0.166974414004614|  1.61272666105479|  1.06523531137287|  0.48909501589608|-0.143772296441519| 0.635558093258208| 0.463917041022171|-0.114804663102346| -0.183361270123994|-0.145783041325259|-0.0690831352230203|  -0.225775248033138| -0.638671952771851| 0.101288021253234|-0.339846475529127| 0.167170404418143| 0.125894532368176|-0.00898309914322813| 0.0147241691924927|  2.69|    0|\n",
      "| 1.0| -1.35835406159823|  -1.34016307473609|1.77320934263119| 0.379779593034328| -0.503198133318193|   1.80049938079263|  0.791460956450422| 0.247675786588991| -1.51465432260583|  0.207642865216696| 0.624501459424895| 0.066083685268831| 0.717292731410831|-0.165945922763554|  2.34586494901581| -2.89008319444231|  1.10996937869599| -0.121359313195888| -2.26185709530414|  0.524979725224404|   0.247998153469754|  0.771679401917229| 0.909412262347719|-0.689280956490685|-0.327641833735251|-0.139096571514147| -0.0553527940384261|-0.0597518405929204|378.66|    0|\n",
      "| 1.0|-0.966271711572087| -0.185226008082898|1.79299333957872|-0.863291275036453|-0.0103088796030823|   1.24720316752486|   0.23760893977178| 0.377435874652262| -1.38702406270197|-0.0549519224713749|-0.226487263835401| 0.178228225877303| 0.507756869957169| -0.28792374549456|-0.631418117709045|  -1.0596472454325|-0.684092786345479|   1.96577500349538|  -1.2326219700892| -0.208037781160366|  -0.108300452035545|0.00527359678253453|-0.190320518742841| -1.17557533186321| 0.647376034602038|-0.221928844458407|  0.0627228487293033| 0.0614576285006353| 123.5|    0|\n",
      "| 2.0| -1.15823309349523|  0.877736754848451|  1.548717846511| 0.403033933955121| -0.407193377311653| 0.0959214624684256|  0.592940745385545|-0.270532677192282| 0.817739308235294|  0.753074431976354|-0.822842877946363|  0.53819555014995|   1.3458515932154| -1.11966983471731| 0.175121130008994|-0.451449182813529|-0.237033239362776|-0.0381947870352842| 0.803486924960175|  0.408542360392758|-0.00943069713232919|   0.79827849458971|-0.137458079619063| 0.141266983824769|-0.206009587619756| 0.502292224181569|   0.219422229513348|  0.215153147499206| 69.99|    0|\n",
      "+----+------------------+-------------------+----------------+------------------+-------------------+-------------------+-------------------+------------------+------------------+-------------------+------------------+------------------+------------------+------------------+------------------+------------------+------------------+-------------------+------------------+-------------------+--------------------+-------------------+------------------+------------------+------------------+------------------+--------------------+-------------------+------+-----+\n",
      "only showing top 5 rows\n",
      "\n"
     ]
    }
   ],
   "source": [
    "df.show(5)"
   ]
  },
  {
   "cell_type": "code",
   "execution_count": 8,
   "metadata": {},
   "outputs": [
    {
     "name": "stdout",
     "output_type": "stream",
     "text": [
      "+-----+------+\n",
      "|Class| count|\n",
      "+-----+------+\n",
      "|    1|   492|\n",
      "|    0|284315|\n",
      "+-----+------+\n",
      "\n"
     ]
    }
   ],
   "source": [
    "counts = df.groupBy(\"Class\").count()\n",
    "counts.show()"
   ]
  },
  {
   "attachments": {},
   "cell_type": "markdown",
   "metadata": {},
   "source": [
    "## Conclusao dos Dados\n",
    "Depois de visualisar os dados tiramos as seguintes conclusoes:\n",
    "- Teem uma dimensao de 284.804 entidades\n",
    "- Teem uma grande amostra de casos de nao-fraude e muito poucos de fraude, o que pode levar a problemas na detecao de fraunde por nao ter amostra suficiente\n",
    "- Sao constituidos por 30 caracteristicas, o tempo, 28 que nao temos informacao e a Classe, que vai ser a variavel target."
   ]
  },
  {
   "attachments": {},
   "cell_type": "markdown",
   "metadata": {},
   "source": [
    "## Tratamento dos dados\n",
    "Aqui vamos pegar em todas as caracteristicas dos dados exceto a variavel target e criar um objeto vetor para o item "
   ]
  },
  {
   "cell_type": "code",
   "execution_count": 9,
   "metadata": {},
   "outputs": [],
   "source": [
    "cols = df.columns\n",
    "cols.remove('Class')"
   ]
  },
  {
   "cell_type": "code",
   "execution_count": 10,
   "metadata": {},
   "outputs": [],
   "source": [
    "assembler = VectorAssembler(inputCols= cols, outputCol= 'features')"
   ]
  },
  {
   "cell_type": "code",
   "execution_count": 11,
   "metadata": {},
   "outputs": [],
   "source": [
    "df = assembler.transform(df)"
   ]
  },
  {
   "attachments": {},
   "cell_type": "markdown",
   "metadata": {},
   "source": [
    "Agora vamos visualizar os dados depois de serem tratados, e vamos poder observar que de 30 passamos a ter apenas 2 colunas e vamos usar a coluna das features para prever a da class, uma vez que a features nao e nada mais nada menos que todas as outras 29 caracteristicas juntas."
   ]
  },
  {
   "cell_type": "code",
   "execution_count": 12,
   "metadata": {},
   "outputs": [
    {
     "name": "stdout",
     "output_type": "stream",
     "text": [
      "+--------------------+-----+\n",
      "|            features|Class|\n",
      "+--------------------+-----+\n",
      "|[0.0,-1.359807133...|    0|\n",
      "|[0.0,1.1918571113...|    0|\n",
      "|[1.0,-1.358354061...|    0|\n",
      "|[1.0,-0.966271711...|    0|\n",
      "|[2.0,-1.158233093...|    0|\n",
      "+--------------------+-----+\n",
      "only showing top 5 rows\n",
      "\n"
     ]
    }
   ],
   "source": [
    "df = df.select(['features', 'Class'])\n",
    "df.show(5)"
   ]
  },
  {
   "attachments": {},
   "cell_type": "markdown",
   "metadata": {},
   "source": [
    "## Aplicar Modelos de Machine Learning\n",
    "Neste trabalho vao ser usados 2 modelos de machine learning, a regressao logistica e o random forest. Estes modelos foram escolhidos por serem geralmente bons candidatos a tratar de classificacao binaria, que era o caso do nosso dataset."
   ]
  },
  {
   "attachments": {},
   "cell_type": "markdown",
   "metadata": {},
   "source": [
    "### Defenir Test/Split\n",
    "Neste caso vamos fazer o split a 70% dos dados para treino e os restantes 30% para teste"
   ]
  },
  {
   "cell_type": "code",
   "execution_count": 13,
   "metadata": {},
   "outputs": [],
   "source": [
    "training, testing= df.randomSplit([0.7, 0.3])"
   ]
  },
  {
   "attachments": {},
   "cell_type": "markdown",
   "metadata": {},
   "source": [
    "### Modelo - Regressao Logistica"
   ]
  },
  {
   "attachments": {},
   "cell_type": "markdown",
   "metadata": {},
   "source": [
    "#### treino e teste do modelo"
   ]
  },
  {
   "cell_type": "code",
   "execution_count": 35,
   "metadata": {},
   "outputs": [],
   "source": [
    "lr = LogisticRegression(labelCol='Class', featuresCol='features')\n",
    "model= lr.fit(training) # fit dos dados de treino\n",
    "predictions = model.transform(testing) # teste do modelo com os dados de teste"
   ]
  },
  {
   "attachments": {},
   "cell_type": "markdown",
   "metadata": {},
   "source": [
    "#### Verificar resultados do teste"
   ]
  },
  {
   "cell_type": "code",
   "execution_count": 36,
   "metadata": {},
   "outputs": [
    {
     "data": {
      "text/plain": [
       "0.9843709695541113"
      ]
     },
     "execution_count": 36,
     "metadata": {},
     "output_type": "execute_result"
    }
   ],
   "source": [
    "evaluator = BinaryClassificationEvaluator(labelCol='Class', rawPredictionCol='rawPrediction')\n",
    "accuracy = evaluator.evaluate(predictions)\n",
    "accuracy"
   ]
  },
  {
   "attachments": {},
   "cell_type": "markdown",
   "metadata": {},
   "source": [
    "Com isto temos um modelo de previsao a usar regressao logistica em que obtivemos uma precisao de aproximadamente 98%"
   ]
  },
  {
   "attachments": {},
   "cell_type": "markdown",
   "metadata": {},
   "source": [
    "#### tabela com a previsao"
   ]
  },
  {
   "cell_type": "code",
   "execution_count": 37,
   "metadata": {},
   "outputs": [
    {
     "data": {
      "text/html": [
       "<div>\n",
       "<style scoped>\n",
       "    .dataframe tbody tr th:only-of-type {\n",
       "        vertical-align: middle;\n",
       "    }\n",
       "\n",
       "    .dataframe tbody tr th {\n",
       "        vertical-align: top;\n",
       "    }\n",
       "\n",
       "    .dataframe thead th {\n",
       "        text-align: right;\n",
       "    }\n",
       "</style>\n",
       "<table border=\"1\" class=\"dataframe\">\n",
       "  <thead>\n",
       "    <tr style=\"text-align: right;\">\n",
       "      <th></th>\n",
       "      <th>features</th>\n",
       "      <th>Class</th>\n",
       "      <th>rawPrediction</th>\n",
       "      <th>probability</th>\n",
       "      <th>prediction</th>\n",
       "    </tr>\n",
       "  </thead>\n",
       "  <tbody>\n",
       "    <tr>\n",
       "      <th>0</th>\n",
       "      <td>[1.0, -0.966271711572087, -0.185226008082898, ...</td>\n",
       "      <td>0</td>\n",
       "      <td>[8.490171792654719, -8.490171792654719]</td>\n",
       "      <td>[0.9997945642550379, 0.00020543574496212358]</td>\n",
       "      <td>0.0</td>\n",
       "    </tr>\n",
       "    <tr>\n",
       "      <th>1</th>\n",
       "      <td>[2.0, -1.15823309349523, 0.877736754848451, 1....</td>\n",
       "      <td>0</td>\n",
       "      <td>[8.416240817831296, -8.416240817831296]</td>\n",
       "      <td>[0.9997788041474247, 0.0002211958525752955]</td>\n",
       "      <td>0.0</td>\n",
       "    </tr>\n",
       "    <tr>\n",
       "      <th>2</th>\n",
       "      <td>[2.0, -0.425965884412454, 0.960523044882985, 1...</td>\n",
       "      <td>0</td>\n",
       "      <td>[8.611205846484701, -8.611205846484701]</td>\n",
       "      <td>[0.9998179788891919, 0.00018202111080811711]</td>\n",
       "      <td>0.0</td>\n",
       "    </tr>\n",
       "    <tr>\n",
       "      <th>3</th>\n",
       "      <td>[7.0, -0.644269442348146, 1.41796354547385, 1....</td>\n",
       "      <td>0</td>\n",
       "      <td>[6.683145041097031, -6.683145041097031]</td>\n",
       "      <td>[0.9987497304274873, 0.00125026957251273]</td>\n",
       "      <td>0.0</td>\n",
       "    </tr>\n",
       "    <tr>\n",
       "      <th>4</th>\n",
       "      <td>[10.0, 0.38497821518095, 0.616109459176472, -0...</td>\n",
       "      <td>0</td>\n",
       "      <td>[8.546848696358913, -8.546848696358913]</td>\n",
       "      <td>[0.9998058817082615, 0.00019411829173854311]</td>\n",
       "      <td>0.0</td>\n",
       "    </tr>\n",
       "    <tr>\n",
       "      <th>...</th>\n",
       "      <td>...</td>\n",
       "      <td>...</td>\n",
       "      <td>...</td>\n",
       "      <td>...</td>\n",
       "      <td>...</td>\n",
       "    </tr>\n",
       "    <tr>\n",
       "      <th>85345</th>\n",
       "      <td>[172769.0, -1.02971891697297, -1.1106695791175...</td>\n",
       "      <td>0</td>\n",
       "      <td>[8.350576559177306, -8.350576559177306]</td>\n",
       "      <td>[0.9997637955445959, 0.00023620445540406543]</td>\n",
       "      <td>0.0</td>\n",
       "    </tr>\n",
       "    <tr>\n",
       "      <th>85346</th>\n",
       "      <td>[172770.0, -0.446950896052929, 1.3022123695422...</td>\n",
       "      <td>0</td>\n",
       "      <td>[8.027573218039668, -8.027573218039668]</td>\n",
       "      <td>[0.9996737672596948, 0.0003262327403051879]</td>\n",
       "      <td>0.0</td>\n",
       "    </tr>\n",
       "    <tr>\n",
       "      <th>85347</th>\n",
       "      <td>[172775.0, 1.97100223582511, -0.69906730104192...</td>\n",
       "      <td>0</td>\n",
       "      <td>[9.363038141967401, -9.363038141967401]</td>\n",
       "      <td>[0.9999141684563302, 8.583154366981205e-05]</td>\n",
       "      <td>0.0</td>\n",
       "    </tr>\n",
       "    <tr>\n",
       "      <th>85348</th>\n",
       "      <td>[172778.0, -12.5167318477287, 10.1878180402793...</td>\n",
       "      <td>0</td>\n",
       "      <td>[27.76378210961446, -27.76378210961446]</td>\n",
       "      <td>[0.9999999999991243, 8.757439218243235e-13]</td>\n",
       "      <td>0.0</td>\n",
       "    </tr>\n",
       "    <tr>\n",
       "      <th>85349</th>\n",
       "      <td>[172788.0, 1.91956500980048, -0.30125384599064...</td>\n",
       "      <td>0</td>\n",
       "      <td>[8.536433912047203, -8.536433912047203]</td>\n",
       "      <td>[0.999803849842322, 0.00019615015767804334]</td>\n",
       "      <td>0.0</td>\n",
       "    </tr>\n",
       "  </tbody>\n",
       "</table>\n",
       "<p>85350 rows × 5 columns</p>\n",
       "</div>"
      ],
      "text/plain": [
       "                                                features  Class  \\\n",
       "0      [1.0, -0.966271711572087, -0.185226008082898, ...      0   \n",
       "1      [2.0, -1.15823309349523, 0.877736754848451, 1....      0   \n",
       "2      [2.0, -0.425965884412454, 0.960523044882985, 1...      0   \n",
       "3      [7.0, -0.644269442348146, 1.41796354547385, 1....      0   \n",
       "4      [10.0, 0.38497821518095, 0.616109459176472, -0...      0   \n",
       "...                                                  ...    ...   \n",
       "85345  [172769.0, -1.02971891697297, -1.1106695791175...      0   \n",
       "85346  [172770.0, -0.446950896052929, 1.3022123695422...      0   \n",
       "85347  [172775.0, 1.97100223582511, -0.69906730104192...      0   \n",
       "85348  [172778.0, -12.5167318477287, 10.1878180402793...      0   \n",
       "85349  [172788.0, 1.91956500980048, -0.30125384599064...      0   \n",
       "\n",
       "                                 rawPrediction  \\\n",
       "0      [8.490171792654719, -8.490171792654719]   \n",
       "1      [8.416240817831296, -8.416240817831296]   \n",
       "2      [8.611205846484701, -8.611205846484701]   \n",
       "3      [6.683145041097031, -6.683145041097031]   \n",
       "4      [8.546848696358913, -8.546848696358913]   \n",
       "...                                        ...   \n",
       "85345  [8.350576559177306, -8.350576559177306]   \n",
       "85346  [8.027573218039668, -8.027573218039668]   \n",
       "85347  [9.363038141967401, -9.363038141967401]   \n",
       "85348  [27.76378210961446, -27.76378210961446]   \n",
       "85349  [8.536433912047203, -8.536433912047203]   \n",
       "\n",
       "                                        probability  prediction  \n",
       "0      [0.9997945642550379, 0.00020543574496212358]         0.0  \n",
       "1       [0.9997788041474247, 0.0002211958525752955]         0.0  \n",
       "2      [0.9998179788891919, 0.00018202111080811711]         0.0  \n",
       "3         [0.9987497304274873, 0.00125026957251273]         0.0  \n",
       "4      [0.9998058817082615, 0.00019411829173854311]         0.0  \n",
       "...                                             ...         ...  \n",
       "85345  [0.9997637955445959, 0.00023620445540406543]         0.0  \n",
       "85346   [0.9996737672596948, 0.0003262327403051879]         0.0  \n",
       "85347   [0.9999141684563302, 8.583154366981205e-05]         0.0  \n",
       "85348   [0.9999999999991243, 8.757439218243235e-13]         0.0  \n",
       "85349   [0.999803849842322, 0.00019615015767804334]         0.0  \n",
       "\n",
       "[85350 rows x 5 columns]"
      ]
     },
     "execution_count": 37,
     "metadata": {},
     "output_type": "execute_result"
    }
   ],
   "source": [
    "predictions.toPandas()"
   ]
  },
  {
   "attachments": {},
   "cell_type": "markdown",
   "metadata": {},
   "source": [
    "### Modelo - Random forest"
   ]
  },
  {
   "attachments": {},
   "cell_type": "markdown",
   "metadata": {},
   "source": [
    "#### treino e teste do modelo\n",
    "Neste caso, estamos a fazer um modelo com uma profuncidade maxima de 5 para evitar overfitting."
   ]
  },
  {
   "cell_type": "code",
   "execution_count": 39,
   "metadata": {},
   "outputs": [],
   "source": [
    "rf = RandomForestClassifier(labelCol=\"Class\", featuresCol=\"features\", maxDepth= 5)\n",
    "model = rf.fit(training)\n",
    "predictions = model.transform(testing) # teste do modelo com os dados de teste"
   ]
  },
  {
   "attachments": {},
   "cell_type": "markdown",
   "metadata": {},
   "source": [
    "#### verificar resultados do teste"
   ]
  },
  {
   "cell_type": "code",
   "execution_count": 40,
   "metadata": {},
   "outputs": [
    {
     "data": {
      "text/plain": [
       "0.9596884214755986"
      ]
     },
     "execution_count": 40,
     "metadata": {},
     "output_type": "execute_result"
    }
   ],
   "source": [
    "evaluator = BinaryClassificationEvaluator(labelCol='Class', rawPredictionCol='rawPrediction')\n",
    "accuracy = evaluator.evaluate(predictions)\n",
    "accuracy"
   ]
  },
  {
   "attachments": {},
   "cell_type": "markdown",
   "metadata": {},
   "source": [
    "Com isto temos um modelo de previsao a usar o Random Forest em que obtivemos uma precisao de aproximadamente 96%"
   ]
  },
  {
   "attachments": {},
   "cell_type": "markdown",
   "metadata": {},
   "source": [
    "#### tabela com a previsao"
   ]
  },
  {
   "cell_type": "code",
   "execution_count": 41,
   "metadata": {},
   "outputs": [
    {
     "data": {
      "text/html": [
       "<div>\n",
       "<style scoped>\n",
       "    .dataframe tbody tr th:only-of-type {\n",
       "        vertical-align: middle;\n",
       "    }\n",
       "\n",
       "    .dataframe tbody tr th {\n",
       "        vertical-align: top;\n",
       "    }\n",
       "\n",
       "    .dataframe thead th {\n",
       "        text-align: right;\n",
       "    }\n",
       "</style>\n",
       "<table border=\"1\" class=\"dataframe\">\n",
       "  <thead>\n",
       "    <tr style=\"text-align: right;\">\n",
       "      <th></th>\n",
       "      <th>features</th>\n",
       "      <th>Class</th>\n",
       "      <th>rawPrediction</th>\n",
       "      <th>probability</th>\n",
       "      <th>prediction</th>\n",
       "    </tr>\n",
       "  </thead>\n",
       "  <tbody>\n",
       "    <tr>\n",
       "      <th>0</th>\n",
       "      <td>[1.0, -0.966271711572087, -0.185226008082898, ...</td>\n",
       "      <td>0</td>\n",
       "      <td>[19.994562590140994, 0.005437409859006456]</td>\n",
       "      <td>[0.9997281295070497, 0.0002718704929503228]</td>\n",
       "      <td>0.0</td>\n",
       "    </tr>\n",
       "    <tr>\n",
       "      <th>1</th>\n",
       "      <td>[2.0, -1.15823309349523, 0.877736754848451, 1....</td>\n",
       "      <td>0</td>\n",
       "      <td>[19.995453778181545, 0.004546221818454511]</td>\n",
       "      <td>[0.9997726889090772, 0.00022731109092272557]</td>\n",
       "      <td>0.0</td>\n",
       "    </tr>\n",
       "    <tr>\n",
       "      <th>2</th>\n",
       "      <td>[2.0, -0.425965884412454, 0.960523044882985, 1...</td>\n",
       "      <td>0</td>\n",
       "      <td>[19.995453778181545, 0.004546221818454511]</td>\n",
       "      <td>[0.9997726889090772, 0.00022731109092272557]</td>\n",
       "      <td>0.0</td>\n",
       "    </tr>\n",
       "    <tr>\n",
       "      <th>3</th>\n",
       "      <td>[7.0, -0.644269442348146, 1.41796354547385, 1....</td>\n",
       "      <td>0</td>\n",
       "      <td>[19.994571482131782, 0.005428517868218554]</td>\n",
       "      <td>[0.9997285741065891, 0.0002714258934109277]</td>\n",
       "      <td>0.0</td>\n",
       "    </tr>\n",
       "    <tr>\n",
       "      <th>4</th>\n",
       "      <td>[10.0, 0.38497821518095, 0.616109459176472, -0...</td>\n",
       "      <td>0</td>\n",
       "      <td>[19.995453778181545, 0.004546221818454511]</td>\n",
       "      <td>[0.9997726889090772, 0.00022731109092272557]</td>\n",
       "      <td>0.0</td>\n",
       "    </tr>\n",
       "    <tr>\n",
       "      <th>...</th>\n",
       "      <td>...</td>\n",
       "      <td>...</td>\n",
       "      <td>...</td>\n",
       "      <td>...</td>\n",
       "      <td>...</td>\n",
       "    </tr>\n",
       "    <tr>\n",
       "      <th>85345</th>\n",
       "      <td>[172769.0, -1.02971891697297, -1.1106695791175...</td>\n",
       "      <td>0</td>\n",
       "      <td>[19.99503091576794, 0.0049690842320611935]</td>\n",
       "      <td>[0.9997515457883969, 0.0002484542116030596]</td>\n",
       "      <td>0.0</td>\n",
       "    </tr>\n",
       "    <tr>\n",
       "      <th>85346</th>\n",
       "      <td>[172770.0, -0.446950896052929, 1.3022123695422...</td>\n",
       "      <td>0</td>\n",
       "      <td>[19.995453778181545, 0.004546221818454511]</td>\n",
       "      <td>[0.9997726889090772, 0.00022731109092272557]</td>\n",
       "      <td>0.0</td>\n",
       "    </tr>\n",
       "    <tr>\n",
       "      <th>85347</th>\n",
       "      <td>[172775.0, 1.97100223582511, -0.69906730104192...</td>\n",
       "      <td>0</td>\n",
       "      <td>[19.995453778181545, 0.004546221818454511]</td>\n",
       "      <td>[0.9997726889090772, 0.00022731109092272557]</td>\n",
       "      <td>0.0</td>\n",
       "    </tr>\n",
       "    <tr>\n",
       "      <th>85348</th>\n",
       "      <td>[172778.0, -12.5167318477287, 10.1878180402793...</td>\n",
       "      <td>0</td>\n",
       "      <td>[19.992289348194863, 0.0077106518051382085]</td>\n",
       "      <td>[0.9996144674097431, 0.0003855325902569104]</td>\n",
       "      <td>0.0</td>\n",
       "    </tr>\n",
       "    <tr>\n",
       "      <th>85349</th>\n",
       "      <td>[172788.0, 1.91956500980048, -0.30125384599064...</td>\n",
       "      <td>0</td>\n",
       "      <td>[19.9924566692874, 0.007543330712604085]</td>\n",
       "      <td>[0.9996228334643698, 0.0003771665356302042]</td>\n",
       "      <td>0.0</td>\n",
       "    </tr>\n",
       "  </tbody>\n",
       "</table>\n",
       "<p>85350 rows × 5 columns</p>\n",
       "</div>"
      ],
      "text/plain": [
       "                                                features  Class  \\\n",
       "0      [1.0, -0.966271711572087, -0.185226008082898, ...      0   \n",
       "1      [2.0, -1.15823309349523, 0.877736754848451, 1....      0   \n",
       "2      [2.0, -0.425965884412454, 0.960523044882985, 1...      0   \n",
       "3      [7.0, -0.644269442348146, 1.41796354547385, 1....      0   \n",
       "4      [10.0, 0.38497821518095, 0.616109459176472, -0...      0   \n",
       "...                                                  ...    ...   \n",
       "85345  [172769.0, -1.02971891697297, -1.1106695791175...      0   \n",
       "85346  [172770.0, -0.446950896052929, 1.3022123695422...      0   \n",
       "85347  [172775.0, 1.97100223582511, -0.69906730104192...      0   \n",
       "85348  [172778.0, -12.5167318477287, 10.1878180402793...      0   \n",
       "85349  [172788.0, 1.91956500980048, -0.30125384599064...      0   \n",
       "\n",
       "                                     rawPrediction  \\\n",
       "0       [19.994562590140994, 0.005437409859006456]   \n",
       "1       [19.995453778181545, 0.004546221818454511]   \n",
       "2       [19.995453778181545, 0.004546221818454511]   \n",
       "3       [19.994571482131782, 0.005428517868218554]   \n",
       "4       [19.995453778181545, 0.004546221818454511]   \n",
       "...                                            ...   \n",
       "85345   [19.99503091576794, 0.0049690842320611935]   \n",
       "85346   [19.995453778181545, 0.004546221818454511]   \n",
       "85347   [19.995453778181545, 0.004546221818454511]   \n",
       "85348  [19.992289348194863, 0.0077106518051382085]   \n",
       "85349     [19.9924566692874, 0.007543330712604085]   \n",
       "\n",
       "                                        probability  prediction  \n",
       "0       [0.9997281295070497, 0.0002718704929503228]         0.0  \n",
       "1      [0.9997726889090772, 0.00022731109092272557]         0.0  \n",
       "2      [0.9997726889090772, 0.00022731109092272557]         0.0  \n",
       "3       [0.9997285741065891, 0.0002714258934109277]         0.0  \n",
       "4      [0.9997726889090772, 0.00022731109092272557]         0.0  \n",
       "...                                             ...         ...  \n",
       "85345   [0.9997515457883969, 0.0002484542116030596]         0.0  \n",
       "85346  [0.9997726889090772, 0.00022731109092272557]         0.0  \n",
       "85347  [0.9997726889090772, 0.00022731109092272557]         0.0  \n",
       "85348   [0.9996144674097431, 0.0003855325902569104]         0.0  \n",
       "85349   [0.9996228334643698, 0.0003771665356302042]         0.0  \n",
       "\n",
       "[85350 rows x 5 columns]"
      ]
     },
     "execution_count": 41,
     "metadata": {},
     "output_type": "execute_result"
    }
   ],
   "source": [
    "predictions.toPandas()"
   ]
  },
  {
   "attachments": {},
   "cell_type": "markdown",
   "metadata": {},
   "source": [
    "# Conclusao \n",
    "Neste trabalho foi utilizado o PySpark para carregar, processar e analisar um dataset. Em seguida foi utilizado o MLlib para treinar e avaliar modelos de machine learning. Como modelos foram usados a regressao logistica e o Random Forest. Ambos os modelos optiveram um desempenho que consideramos adequado na previsao de se havia fraude ou nao na transacao. Em geral estamos contentes com o nosso trabalho apesar de que nao nos foi possivel apresentar graficos que explicassem os resultados."
   ]
  }
 ],
 "metadata": {
  "kernelspec": {
   "display_name": "Python 3",
   "language": "python",
   "name": "python3"
  },
  "language_info": {
   "codemirror_mode": {
    "name": "ipython",
    "version": 3
   },
   "file_extension": ".py",
   "mimetype": "text/x-python",
   "name": "python",
   "nbconvert_exporter": "python",
   "pygments_lexer": "ipython3",
   "version": "3.10.9"
  },
  "orig_nbformat": 4,
  "vscode": {
   "interpreter": {
    "hash": "eb16354a1c2de8adaa603eaacf2cb5d11cea9f2c541a9c0507296819f01c98b7"
   }
  }
 },
 "nbformat": 4,
 "nbformat_minor": 2
}
